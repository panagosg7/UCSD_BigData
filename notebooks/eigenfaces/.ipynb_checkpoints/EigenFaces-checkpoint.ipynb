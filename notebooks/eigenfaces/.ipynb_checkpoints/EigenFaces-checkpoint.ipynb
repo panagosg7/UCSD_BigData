{
 "metadata": {
  "name": ""
 },
 "nbformat": 3,
 "nbformat_minor": 0,
 "worksheets": [
  {
   "cells": [
    {
     "cell_type": "markdown",
     "metadata": {},
     "source": [
      "### Eigenfaces ###\n",
      "This notebook presents the idea of eigen-faces. The data was taken from here: http://vision.ucsd.edu/~leekc/ExtYaleDatabase/ExtYaleB.html\n",
      "\n",
      "When publishing work based on this data please reference the paper:\n",
      "\n",
      "**Athinodoros Georghiades, Peter Belhumeur, and David Kriegman /  \n",
      "\"From Few to Many: Illumination Cone Models for Face Recognition under Variable Lighting and Pose\", PAMI, 2001**"
     ]
    },
    {
     "cell_type": "code",
     "collapsed": false,
     "input": [
      "Data_Dir='/home/ubuntu/data/CroppedYale'\n",
      "!ls $Data_Dir"
     ],
     "language": "python",
     "metadata": {},
     "outputs": []
    },
    {
     "cell_type": "markdown",
     "metadata": {},
     "source": [
      "### Converting from svg to png ###"
     ]
    },
    {
     "cell_type": "code",
     "collapsed": false,
     "input": [
      "from glob import glob\n",
      "%cd $Data_Dir"
     ],
     "language": "python",
     "metadata": {},
     "outputs": []
    },
    {
     "cell_type": "markdown",
     "metadata": {},
     "source": [
      "This is already done, you can skip the following cell. Executing it requires that ImageMagik be installed."
     ]
    },
    {
     "cell_type": "code",
     "collapsed": false,
     "input": [
      "from glob import glob\n",
      "\n",
      "%cd $Data_Dir\n",
      "\n",
      "files=glob('yaleB*/*.png')\n",
      "print 'number of files is',len(files)\n",
      "count=0\n",
      "for f in files:\n",
      "    new_f=f[:-3]+'png'\n",
      "    !convert $f $new_f\n",
      "    count += 1\n",
      "    if count % 100==0:\n",
      "        print count,f,new_f\n"
     ],
     "language": "python",
     "metadata": {},
     "outputs": []
    },
    {
     "cell_type": "markdown",
     "metadata": {},
     "source": [
      "### Collect and display all images from a single person ###"
     ]
    },
    {
     "cell_type": "code",
     "collapsed": false,
     "input": [
      "def image_grid(D,H,W,cols=10,scale=1):\n",
      "    \"\"\" display a grid of images\n",
      "        H,W: Height and width of the images\n",
      "        cols: number of columns = number of images in each row\n",
      "        scale: 1 to fill screen\n",
      "    \"\"\"\n",
      "    n=shape(D)[0]\n",
      "    rows = int(ceil((n+0.0)/cols))\n",
      "    fig=plt.figure(1,figsize=[scale*20.0/H*W,scale*20.0/cols*rows],dpi=300)\n",
      "    for i in range(n):\n",
      "        subplot(rows,cols,i+1)\n",
      "        fig=plt.imshow(reshape(D[i,:],[H,W]), cmap = cm.Greys_r)\n",
      "        plt.axis('off')"
     ],
     "language": "python",
     "metadata": {},
     "outputs": []
    },
    {
     "cell_type": "code",
     "collapsed": false,
     "input": [
      "(192*168)**2"
     ],
     "language": "python",
     "metadata": {},
     "outputs": []
    },
    {
     "cell_type": "code",
     "collapsed": false,
     "input": [
      "import Image\n",
      "import scipy.misc\n",
      "\n",
      "SetNo='01'   # can be any number from 01 to 39\n",
      "\n",
      "#read in files\n",
      "files=glob('yaleB'+SetNo+'/*.png')\n",
      "files=[name for name in files if name.find('Ambient')==-1]\n",
      "\n",
      "im_number=len(files)\n",
      "\n",
      "print 'number of files:',im_number\n",
      "\n",
      "#read one file to find out the image size\n",
      "im = Image.open(files[0]).convert(\"L\")\n",
      "(H,W)=shape(im)\n",
      "print 'shape=',(H,W)\n",
      "arr=np.zeros([im_number,H*W])\n",
      "\n",
      "for i in range(im_number):\n",
      "    im = Image.open(files[i]).convert(\"L\")\n",
      "    arr[i,:] = np.reshape(np.asarray(im),[1,H*W])\n",
      "\n",
      "image_grid(arr,H,W)"
     ],
     "language": "python",
     "metadata": {},
     "outputs": []
    },
    {
     "cell_type": "code",
     "collapsed": false,
     "input": [
      "shape(im)"
     ],
     "language": "python",
     "metadata": {},
     "outputs": []
    },
    {
     "cell_type": "code",
     "collapsed": false,
     "input": [
      "image_i=10\n",
      "fig=plt.figure(1,figsize=[10,5],dpi=300)\n",
      "subplot(1,2,1)\n",
      "plt.imshow(np.reshape(arr[image_i,:],[H,W]), cmap = cm.Greys_r)\n",
      "# Testing flattening and deflattenning\n",
      "flat=np.reshape(arr[image_i,:],[H*W])\n",
      "flat=(flat-mean(flat))/std(flat)\n",
      "recon=np.reshape(flat,[H,W])\n",
      "# Shifting and scaling the image does not change how it is displayed\n",
      "subplot(1,2,2)\n",
      "plt.imshow(recon, cmap = cm.Greys_r)"
     ],
     "language": "python",
     "metadata": {},
     "outputs": []
    },
    {
     "cell_type": "code",
     "collapsed": false,
     "input": [
      "#Normalize all of the images to have mean zero and std 1\n",
      "means=np.zeros(im_number)\n",
      "stds=np.zeros(im_number)\n",
      "means2=np.zeros(im_number)\n",
      "stds2=np.zeros(im_number)\n",
      "\n",
      "D0=np.zeros([im_number,H*W])  #the normalized data\n",
      "\n",
      "for i in range(im_number):\n",
      "    flat=arr[i,:]\n",
      "    means[i]=mean(flat)\n",
      "    stds[i]=std(flat)\n",
      "    D0[i,:]=(flat-means[i])/stds[i]\n",
      "    means2[i]=mean(D0[i,:])\n",
      "    stds2[i]=std(D0[i,:])\n",
      "print 'means=',means, \n",
      "print 'means2=',means2 \n",
      "print 'stds=',stds\n",
      "print 'stds2=',stds2"
     ],
     "language": "python",
     "metadata": {},
     "outputs": []
    },
    {
     "cell_type": "markdown",
     "metadata": {},
     "source": [
      "### Finding the mean image ###"
     ]
    },
    {
     "cell_type": "code",
     "collapsed": false,
     "input": [
      "mean_image=zeros(H*W)\n",
      "for i in range(im_number):\n",
      "    mean_image=mean_image+D0[i,:]\n",
      "mean_image=mean_image/im_number\n",
      "plt.imshow(np.reshape(mean_image,[H,W]), cmap = cm.Greys_r)\n",
      "figure()\n",
      "hist(mean_image,bins=100);"
     ],
     "language": "python",
     "metadata": {},
     "outputs": []
    },
    {
     "cell_type": "markdown",
     "metadata": {},
     "source": [
      "Note how flat the illumination seems to be on this one!"
     ]
    },
    {
     "cell_type": "markdown",
     "metadata": {},
     "source": [
      "### Subtracting out the mean image ###"
     ]
    },
    {
     "cell_type": "code",
     "collapsed": false,
     "input": [
      "D1=0*D0\n",
      "for i in range(im_number):\n",
      "    D1[i,:]=D0[i,:] - mean_image\n",
      "image_grid(D0[:10,:],H,W)"
     ],
     "language": "python",
     "metadata": {},
     "outputs": []
    },
    {
     "cell_type": "code",
     "collapsed": false,
     "input": [
      "image_grid(D1[:10,:],H,W)"
     ],
     "language": "python",
     "metadata": {},
     "outputs": []
    },
    {
     "cell_type": "markdown",
     "metadata": {},
     "source": [
      "### Compute the average lengths of vectors ###"
     ]
    },
    {
     "cell_type": "code",
     "collapsed": false,
     "input": [
      "def err(V):\n",
      "    \"\"\" err = the average of the square values \"\"\"\n",
      "    return np.dot(V,V)/len(V)\n",
      "\n",
      "def meanErr(D):\n",
      "    \"\"\" meanErr = the average err over all rows of D \"\"\"\n",
      "    total_err=0\n",
      "    n=shape(D)[0]\n",
      "    for i in range(n):\n",
      "        total_err += err(D[i,:])\n",
      "    return total_err/n\n",
      "print 'before subtracting mean mean err=',meanErr(D0)\n",
      "print 'after subtracting mean mean err=',meanErr(D1)"
     ],
     "language": "python",
     "metadata": {},
     "outputs": []
    },
    {
     "cell_type": "markdown",
     "metadata": {},
     "source": [
      "### Using iterative PCA to find the largest eigen-vector ###"
     ]
    },
    {
     "cell_type": "code",
     "collapsed": false,
     "input": [
      "from numpy.linalg import norm\n",
      "\n",
      "k=45; L=10\n",
      "\n",
      "R=copy(D1)   #R is a matrix in which each row is the residual vector after the current eigenvectors have been projected out.\n",
      "eigvecs=np.zeros([k,H*W])\n",
      "Coeffs=np.zeros([im_number,k])  # Coeffs holds the coefficients of the eigenvectors that approximate each image\n",
      "var_remaining=np.zeros(k)\n",
      "\n",
      "factor=im_number*H*W\n",
      "\n",
      "for e in range(k):\n",
      "    print 'starting on eigenvec',e\n",
      "    V=np.random.normal(size=H*W)  # V is the \"current vector\" in the eigenvector finding algorithm.\n",
      "    V=V/norm(V)\n",
      "\n",
      "    # Iterate L times through the data to find the next eigenvector.\n",
      "    for j in range(L):\n",
      "        acc_length=0; acc_explained=0\n",
      "        Vprev=V/norm(V)\n",
      "        for i in range(im_number):\n",
      "            X=R[i,:]\n",
      "            d=np.dot(V,X)/norm(V)\n",
      "            V=V+d*X\n",
      "            #print acc_length,acc_explained\n",
      "            acc_length += np.dot(X,X)\n",
      "            acc_explained += d*d\n",
      "        NV=V/norm(V) # normalized version of updated vector\n",
      "        print '%4d: change=%5.4f, total variance=%5.4f, captured variance=%5.4f' % (j,norm(NV-Vprev),acc_length/factor,acc_explained/factor)\n",
      "    var_remaining[e]=acc_length/factor\n",
      "    eigvecs[e,:]=NV\n",
      "    # subtract projection on V from each data vector\n",
      "    for i in range(im_number):\n",
      "        X=R[i,:]\n",
      "        d=np.dot(X,NV)\n",
      "        Coeffs[i,e]=d\n",
      "        X=X-NV*d\n",
      "        R[i,:]=X"
     ],
     "language": "python",
     "metadata": {},
     "outputs": []
    },
    {
     "cell_type": "code",
     "collapsed": false,
     "input": [
      "print var_remaining/var_remaining[0]\n",
      "plot(var_remaining/var_remaining[0]);\n",
      "grid()"
     ],
     "language": "python",
     "metadata": {},
     "outputs": []
    },
    {
     "cell_type": "code",
     "collapsed": false,
     "input": [
      "tmp=np.zeros([k+1,H*W])\n",
      "tmp[0,:]=mean_image\n",
      "tmp[1:,:]=eigvecs\n",
      "image_grid(tmp,H,W,cols=5)"
     ],
     "language": "python",
     "metadata": {},
     "outputs": []
    },
    {
     "cell_type": "markdown",
     "metadata": {},
     "source": [
      "### Reconstruction of specific images ###\n",
      "From the analysis above it is clear that the top k eigenvectors explain most of the variance"
     ]
    },
    {
     "cell_type": "code",
     "collapsed": false,
     "input": [
      "im=21\n",
      "Approx=np.zeros([k+2,H*W])\n",
      "Approx[0,:]=mean_image\n",
      "for i in range(1,k+1):\n",
      "    Approx[i,:]=Approx[i-1,:]+Coeffs[im,i-1]*eigvecs[i-1,:]\n",
      "Approx[k+1,:]=D0[im,:]\n",
      "\n",
      "# Excercise 1:\n",
      "\n",
      "title('Mean image')\n",
      "plt.imshow(np.reshape(mean_image,[H,W]), cmap = cm.Greys_r)\n",
      "figure()\n",
      "\n",
      "\n",
      "pixels=len(mean_image)\n",
      "for i in range(1,k+1):\n",
      "    err=np.sqrt(sum([(Approx[i,j]-D0[im,j])**2 for j in range(pixels)])/pixels)\n",
      "    title('Ev' + str(i) + ' Error:' + str(err))\n",
      "    plt.imshow(np.reshape(Approx[i,:],[H,W]), cmap = cm.Greys_r)\n",
      "    figure()\n",
      "\n",
      "title('Original image')\n",
      "plt.imshow(np.reshape(D0[im,:],[H,W]), cmap = cm.Greys_r)\n",
      "figure()\n",
      "#image_grid(Approx,H,W,cols=5)"
     ],
     "language": "python",
     "metadata": {},
     "outputs": []
    },
    {
     "cell_type": "markdown",
     "metadata": {},
     "source": [
      "## Excercises ##\n",
      "\n",
      "1. Alter the cell \"Reconstruction of specific images\" so that under each of the reconstruction you'll have the average per-pixel squared error. Take a square root on the outside to make the be a Root-Mean-Square quantity.\n",
      "2. There seems to be a bug in the reconstruction code above, the findal reconstruction is quite different from the image to be reconstructed. Can you find the bug?\n",
      "3. Use the eigenvectors to model the difference between faces (keeping the illumination fixed). How many eigenvectors do you need in order to have a good reconstruction?"
     ]
    },
    {
     "cell_type": "markdown",
     "metadata": {},
     "source": [
      "##Answers\n",
      "\n",
      "1. Code inlines\n",
      "2. I seem to be getting better results by adding more than 20 eigenvalues. The bug might still be there though."
     ]
    }
   ],
   "metadata": {}
  }
 ]
}