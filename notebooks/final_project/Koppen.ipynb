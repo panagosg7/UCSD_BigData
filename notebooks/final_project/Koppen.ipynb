{
 "metadata": {
  "name": "",
  "signature": "sha256:0c68e5b07d5191bef0f6e0118f5303e792b54bd8bec80ab5cdaead7af5c00cdc"
 },
 "nbformat": 3,
 "nbformat_minor": 0,
 "worksheets": [
  {
   "cells": [
    {
     "cell_type": "heading",
     "level": 1,
     "metadata": {},
     "source": [
      "Koppen"
     ]
    },
    {
     "cell_type": "markdown",
     "metadata": {},
     "source": [
      "This notebook module contains ..."
     ]
    },
    {
     "cell_type": "code",
     "collapsed": false,
     "input": [
      "import pandas as pd\n",
      "import numpy as np\n",
      "import sklearn as sk\n",
      "print 'pandas version: ',pd.__version__\n",
      "print 'numpy version:',np.__version__\n",
      "print 'sklearn version:',sk.__version__\n",
      "import pickle\n",
      "import gzip"
     ],
     "language": "python",
     "metadata": {},
     "outputs": [
      {
       "output_type": "stream",
       "stream": "stdout",
       "text": [
        "pandas version:  0.13.1\n",
        "numpy version: 1.8.1\n",
        "sklearn version: 0.14.1\n"
       ]
      }
     ],
     "prompt_number": 1
    },
    {
     "cell_type": "code",
     "collapsed": false,
     "input": [
      "import sys\n",
      "home_dir='/home/ubuntu/panagosg7'\n",
      "sys.path.append(home_dir+'/utils')\n",
      "from AWS_keypair_management import *"
     ],
     "language": "python",
     "metadata": {},
     "outputs": [],
     "prompt_number": 2
    },
    {
     "cell_type": "heading",
     "level": 2,
     "metadata": {},
     "source": [
      "Load code"
     ]
    },
    {
     "cell_type": "markdown",
     "metadata": {},
     "source": [
      "Run notebook `final_project/Auxiliary Functions.ipynb` first."
     ]
    },
    {
     "cell_type": "code",
     "collapsed": false,
     "input": [
      "%run misc.py"
     ],
     "language": "python",
     "metadata": {},
     "outputs": [
      {
       "output_type": "stream",
       "stream": "stdout",
       "text": [
        "pandas version:  0.13.1\n",
        "numpy version: 1.8.1\n",
        "sklearn version: 0.14.1\n"
       ]
      }
     ],
     "prompt_number": 8
    },
    {
     "cell_type": "heading",
     "level": 2,
     "metadata": {},
     "source": [
      "Load data"
     ]
    },
    {
     "cell_type": "code",
     "collapsed": false,
     "input": [
      "colored_stations = pickle.load(open( \"koppen.pkl\", \"rb\" ))\n",
      "colored_stations.head()"
     ],
     "language": "python",
     "metadata": {},
     "outputs": [
      {
       "html": [
        "<div style=\"max-height:1000px;max-width:1500px;overflow:auto;\">\n",
        "<table border=\"1\" class=\"dataframe\">\n",
        "  <thead>\n",
        "    <tr style=\"text-align: right;\">\n",
        "      <th></th>\n",
        "      <th>latitude</th>\n",
        "      <th>longitude</th>\n",
        "      <th>gid</th>\n",
        "    </tr>\n",
        "    <tr>\n",
        "      <th>station</th>\n",
        "      <th></th>\n",
        "      <th></th>\n",
        "      <th></th>\n",
        "    </tr>\n",
        "  </thead>\n",
        "  <tbody>\n",
        "    <tr>\n",
        "      <th>ACW00011604</th>\n",
        "      <td> 17.1167</td>\n",
        "      <td>-61.7833</td>\n",
        "      <td>  Af</td>\n",
        "    </tr>\n",
        "    <tr>\n",
        "      <th>ACW00011647</th>\n",
        "      <td> 17.1333</td>\n",
        "      <td>-61.7833</td>\n",
        "      <td>  Af</td>\n",
        "    </tr>\n",
        "    <tr>\n",
        "      <th>AG000060390</th>\n",
        "      <td> 36.7167</td>\n",
        "      <td>  3.2500</td>\n",
        "      <td> Csa</td>\n",
        "    </tr>\n",
        "    <tr>\n",
        "      <th>AG000060611</th>\n",
        "      <td> 28.0500</td>\n",
        "      <td>  9.6331</td>\n",
        "      <td> BWh</td>\n",
        "    </tr>\n",
        "    <tr>\n",
        "      <th>AGE00135039</th>\n",
        "      <td> 35.7297</td>\n",
        "      <td>  0.6500</td>\n",
        "      <td> Csa</td>\n",
        "    </tr>\n",
        "  </tbody>\n",
        "</table>\n",
        "<p>5 rows \u00d7 3 columns</p>\n",
        "</div>"
       ],
       "metadata": {},
       "output_type": "pyout",
       "prompt_number": 10,
       "text": [
        "             latitude  longitude  gid\n",
        "station                              \n",
        "ACW00011604   17.1167   -61.7833   Af\n",
        "ACW00011647   17.1333   -61.7833   Af\n",
        "AG000060390   36.7167     3.2500  Csa\n",
        "AG000060611   28.0500     9.6331  BWh\n",
        "AGE00135039   35.7297     0.6500  Csa\n",
        "\n",
        "[5 rows x 3 columns]"
       ]
      }
     ],
     "prompt_number": 10
    },
    {
     "cell_type": "heading",
     "level": 2,
     "metadata": {},
     "source": [
      "Compute covariance on EMR"
     ]
    },
    {
     "cell_type": "code",
     "collapsed": false,
     "input": [
      "# dump stations with group information\n",
      "pickle_dump(colored_stations, 'colored_stations.pklz')"
     ],
     "language": "python",
     "metadata": {},
     "outputs": [],
     "prompt_number": 11
    },
    {
     "cell_type": "code",
     "collapsed": false,
     "input": [
      "cmd_id        = 'koppen'\n",
      "output_file   = '/home/ubuntu/panagosg7/notebooks/weather.mapreduce/output/koppen.txt'\n",
      "stations_file = '/home/ubuntu/panagosg7/notebooks/weather.mapreduce/colored_stations.pklz'\n",
      "input_data    = 'hdfs:/weather.raw_data/ALL.csv'\n",
      "\n",
      "cmd = pca_cmd(cmd_id, input_data, stations_file, output_file, emr=True)\n",
      "cmd"
     ],
     "language": "python",
     "metadata": {},
     "outputs": [
      {
       "output_type": "stream",
       "stream": "stdout",
       "text": [
        "<boto.emr.emrobject.JobFlow object at 0x5255c50> no_script.yoavfreund.20140611.181713.270989 j-3QZOHADZF9KY1 WAITING\n",
        "<boto.emr.emrobject.JobFlow object at 0x52672d0> no_script.yoavfreund.20140611.181722.314318 j-3MR2RR5OEXRQ7 WAITING\n",
        "<boto.emr.emrobject.JobFlow object at 0x54ba210> no_script.yoavfreund.20140611.181730.511103 j-2S5LTMBIWD2WB WAITING\n",
        "<boto.emr.emrobject.JobFlow object at 0x56e7750> no_script.yoavfreund.20140611.181738.864430 j-3TFYHEIHI9VOY WAITING\n",
        "<boto.emr.emrobject.JobFlow object at 0x580e6d0> no_script.yoavfreund.20140613.042333.580519 j-27Y940LIXXNSZ WAITING\n",
        "<boto.emr.emrobject.JobFlow object at 0x5843110> no_script.yoavfreund.20140613.042344.097071 j-3LP88IFUHBOHO WAITING\n",
        "<boto.emr.emrobject.JobFlow object at 0x5859750> no_script.yoavfreund.20140613.042353.469396 j-2YMCM4F2XO00B WAITING\n",
        "<boto.emr.emrobject.JobFlow object at 0x585d950> no_script.yoavfreund.20140613.042403.179810 j-2DMPRXAW49U58 WAITING\n",
        "<boto.emr.emrobject.JobFlow object at 0x5878d50> no_script.yoavfreund.20140613.154912.285351 j-1CV4WDLQKK3B6 WAITING\n"
       ]
      },
      {
       "metadata": {},
       "output_type": "pyout",
       "prompt_number": 12,
       "text": [
        "u'python pca.py hdfs:/weather.raw_data/ALL.csv -r emr --emr-job-flow-id j-1CV4WDLQKK3B6 --id koppen --stations /home/ubuntu/panagosg7/notebooks/weather.mapreduce/colored_stations.pklz --creds /home/ubuntu/Vault/Creds.pkl > /home/ubuntu/panagosg7/notebooks/weather.mapreduce/output/koppen.txt'"
       ]
      }
     ],
     "prompt_number": 12
    },
    {
     "cell_type": "code",
     "collapsed": false,
     "input": [
      "%time !eval $cmd"
     ],
     "language": "python",
     "metadata": {},
     "outputs": [
      {
       "output_type": "stream",
       "stream": "stdout",
       "text": [
        "using configs in /home/ubuntu/.mrjob.conf\r\n"
       ]
      },
      {
       "output_type": "stream",
       "stream": "stdout",
       "text": [
        "creating tmp directory /tmp/pca.ubuntu.20140614.034927.802908\r\n"
       ]
      },
      {
       "output_type": "stream",
       "stream": "stdout",
       "text": [
        "Copying non-input files into s3://pvekris.bucket/scratch/pca.ubuntu.20140614.034927.802908/files/\r\n"
       ]
      },
      {
       "output_type": "stream",
       "stream": "stdout",
       "text": [
        "Adding our job to existing job flow j-1CV4WDLQKK3B6\r\n"
       ]
      },
      {
       "output_type": "stream",
       "stream": "stdout",
       "text": [
        "Job launched 30.2s ago, status RUNNING: Running step (pca.ubuntu.20140614.034927.802908: Step 1 of 1)\r\n"
       ]
      },
      {
       "output_type": "stream",
       "stream": "stdout",
       "text": [
        "Job launched 60.4s ago, status RUNNING: Running step (pca.ubuntu.20140614.034927.802908: Step 1 of 1)\r\n"
       ]
      },
      {
       "output_type": "stream",
       "stream": "stdout",
       "text": [
        "Job launched 90.6s ago, status RUNNING: Running step (pca.ubuntu.20140614.034927.802908: Step 1 of 1)\r\n"
       ]
      },
      {
       "output_type": "stream",
       "stream": "stdout",
       "text": [
        "Job launched 120.8s ago, status RUNNING: Running step (pca.ubuntu.20140614.034927.802908: Step 1 of 1)\r\n"
       ]
      },
      {
       "output_type": "stream",
       "stream": "stdout",
       "text": [
        "Job completed.\r\n",
        "Running time was 128.0s (not counting time spent waiting for the EC2 instances)\r\n",
        "ec2_key_pair_file not specified, going to S3\r\n",
        "Fetching counters from S3...\r\n",
        "Waiting 5.0s for S3 eventual consistency\r\n"
       ]
      },
      {
       "output_type": "stream",
       "stream": "stdout",
       "text": [
        "Counters may not have been uploaded to S3 yet. Try again in 5 minutes with: mrjob fetch-logs --counters j-1CV4WDLQKK3B6\r\n",
        "Counters from step 1:\r\n",
        "  (no counters found)\r\n",
        "Streaming final output from s3://pvekris.bucket/scratch/pca.ubuntu.20140614.034927.802908/output/\r\n"
       ]
      },
      {
       "output_type": "stream",
       "stream": "stdout",
       "text": [
        "removing tmp directory /tmp/pca.ubuntu.20140614.034927.802908\r\n",
        "Removing all files in s3://pvekris.bucket/scratch/pca.ubuntu.20140614.034927.802908/\r\n"
       ]
      },
      {
       "output_type": "stream",
       "stream": "stdout",
       "text": [
        "CPU times: user 280 ms, sys: 84 ms, total: 364 ms\n",
        "Wall time: 2min 39s\n"
       ]
      }
     ],
     "prompt_number": 13
    },
    {
     "cell_type": "heading",
     "level": 2,
     "metadata": {},
     "source": [
      "Compute and plot explained variance"
     ]
    },
    {
     "cell_type": "code",
     "collapsed": false,
     "input": [
      "missing = []\n",
      "for color in colored_stations['gid'].unique():\n",
      "    try:\n",
      "        s = 'cov_colored/cov_' + color + '.csv'\n",
      "        #print 'Reading', s\n",
      "\n",
      "        c = read_csv_from_s3(s)\n",
      "        U,D,V=np.linalg.svd(c)\n",
      "        sys.stdout.write('.')\n",
      "        p = np.cumsum(D[:])/sum(D)\n",
      "        plot(p)            \n",
      "    except Exception as e:\n",
      "        missing.append(s)\n",
      "    \n",
      "xlim([0,350])\n",
      "grid()\n",
      "\n",
      "print 'Missing', missing"
     ],
     "language": "python",
     "metadata": {},
     "outputs": [
      {
       "output_type": "stream",
       "stream": "stdout",
       "text": [
        ".."
       ]
      },
      {
       "output_type": "stream",
       "stream": "stdout",
       "text": [
        ".."
       ]
      },
      {
       "output_type": "stream",
       "stream": "stdout",
       "text": [
        ".."
       ]
      },
      {
       "output_type": "stream",
       "stream": "stdout",
       "text": [
        ".."
       ]
      },
      {
       "output_type": "stream",
       "stream": "stdout",
       "text": [
        ".."
       ]
      },
      {
       "output_type": "stream",
       "stream": "stdout",
       "text": [
        ".."
       ]
      },
      {
       "output_type": "stream",
       "stream": "stdout",
       "text": [
        ".."
       ]
      },
      {
       "output_type": "stream",
       "stream": "stdout",
       "text": [
        ".."
       ]
      },
      {
       "output_type": "stream",
       "stream": "stdout",
       "text": [
        ".."
       ]
      },
      {
       "output_type": "stream",
       "stream": "stdout",
       "text": [
        ".."
       ]
      },
      {
       "output_type": "stream",
       "stream": "stdout",
       "text": [
        ".."
       ]
      },
      {
       "output_type": "stream",
       "stream": "stdout",
       "text": [
        ".."
       ]
      },
      {
       "output_type": "stream",
       "stream": "stdout",
       "text": [
        ".Missing"
       ]
      },
      {
       "output_type": "stream",
       "stream": "stdout",
       "text": [
        " ['cov_colored/cov_Dsa.csv', 'cov_colored/cov_Dfd.csv']\n"
       ]
      },
      {
       "metadata": {},
       "output_type": "display_data",
       "png": "[encoded data removed]",
       "text": [
        "<matplotlib.figure.Figure at 0x53b2910>"
       ]
      }
     ],
     "prompt_number": 28
    },
    {
     "cell_type": "markdown",
     "metadata": {},
     "source": [
      "Please refer to the main notebook where we compare the output of PCA for each partition"
     ]
    },
    {
     "cell_type": "code",
     "collapsed": false,
     "input": [],
     "language": "python",
     "metadata": {},
     "outputs": []
    }
   ],
   "metadata": {}
  }
 ]
}