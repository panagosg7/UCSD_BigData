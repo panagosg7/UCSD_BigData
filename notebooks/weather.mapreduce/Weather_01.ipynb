{
 "metadata": {
  "name": "",
  "signature": "sha256:11b20d6fe867a282b407c834d9cfb402d80543ce3ba512d1c42defd5d861240f"
 },
 "nbformat": 3,
 "nbformat_minor": 0,
 "worksheets": [
  {
   "cells": [
    {
     "cell_type": "markdown",
     "metadata": {},
     "source": [
      "# 2. Hierarchical partition"
     ]
    },
    {
     "cell_type": "code",
     "collapsed": false,
     "input": [
      "import pandas as pd\n",
      "import numpy as np\n",
      "import sklearn as sk\n",
      "print 'pandas version: ',pd.__version__\n",
      "print 'numpy version:',np.__version__\n",
      "print 'sklearn version:',sk.__version__"
     ],
     "language": "python",
     "metadata": {},
     "outputs": [
      {
       "output_type": "stream",
       "stream": "stdout",
       "text": [
        "pandas version:  0.13.1\n",
        "numpy version: 1.8.1\n",
        "sklearn version: 0.14.1\n"
       ]
      }
     ],
     "prompt_number": 56
    },
    {
     "cell_type": "code",
     "collapsed": false,
     "input": [
      "import sys\n",
      "home_dir='/home/ubuntu/panagosg7'\n",
      "sys.path.append(home_dir+'/utils')\n",
      "from find_waiting_flow import *\n",
      "from AWS_keypair_management import *"
     ],
     "language": "python",
     "metadata": {},
     "outputs": [],
     "prompt_number": 57
    },
    {
     "cell_type": "code",
     "collapsed": false,
     "input": [
      "%%writefile weather_01.py\n",
      "#!/usr/bin/python\n",
      "\"\"\"\n",
      "count the number of measurement for each year\n",
      "\"\"\"\n",
      "import sys\n",
      "sys.path.append('/usr/lib/python2.6/dist-packages')\n",
      "from mrjob.job import MRJob\n",
      "import re\n",
      "from sys import stderr\n",
      "\n",
      "cat='TMAX'\n",
      "\n",
      "class MRWeather(MRJob):\n",
      "\n",
      "    def mapper(self, _, line):\n",
      "        try:\n",
      "            self.increment_counter('MrJob Counters','mapper-all',1)\n",
      "            elements=line.split(',')\n",
      "            \n",
      "            if elements[0]!='station' and elements[1]==cat:\n",
      "                #out = (None, elements)\n",
      "                #self.increment_counter('MrJob Counters for ' + cat, elements[0],1)\n",
      "                out = (elements[0],1)\n",
      "            else:\n",
      "                out = None\n",
      "                     \n",
      "        except Exception, e:\n",
      "            stderr.write('Error in line:\\n'+line)\n",
      "            stderr.write(e)\n",
      "            self.increment_counter('MrJob Counters','mapper-error',1)\n",
      "            out = None # ('error',(1,1))\n",
      "\n",
      "        finally:\n",
      "            if out != None:\n",
      "                yield out\n",
      "        \n",
      "    def combiner(self, word, counts):\n",
      "        self.increment_counter('MrJob Counters','combiner',1)\n",
      "        yield (word, sum(counts))\n",
      "\n",
      "    def reducer(self, word, counts):\n",
      "        self.increment_counter('MrJob Counters','reducer',1)\n",
      "        yield (word, sum(counts))\n",
      "        \n",
      "        \n",
      "\n",
      "if __name__ == '__main__':\n",
      "    MRWeather.run()"
     ],
     "language": "python",
     "metadata": {},
     "outputs": [
      {
       "output_type": "stream",
       "stream": "stdout",
       "text": [
        "Overwriting weather_01.py\n"
       ]
      }
     ],
     "prompt_number": 58
    },
    {
     "cell_type": "markdown",
     "metadata": {},
     "source": [
      "###Output folder"
     ]
    },
    {
     "cell_type": "code",
     "collapsed": false,
     "input": [
      "output_dir = '/home/ubuntu/panagosg7/notebooks/weather.mapreduce/output/'\n",
      "!mkdir -p $output_dir"
     ],
     "language": "python",
     "metadata": {},
     "outputs": [],
     "prompt_number": 59
    },
    {
     "cell_type": "markdown",
     "metadata": {},
     "source": [
      "##Running job inline"
     ]
    },
    {
     "cell_type": "code",
     "collapsed": false,
     "input": [
      "import os.path\n",
      "\n",
      "local_data='/home/ubuntu/panagosg7/data/weather/ALL.head-1000.csv'\n",
      "\n",
      "local_count_file = os.path.join(output_dir,'counts.txt')\n",
      "!ls -l $local_data"
     ],
     "language": "python",
     "metadata": {},
     "outputs": [
      {
       "output_type": "stream",
       "stream": "stdout",
       "text": [
        "-rw-rw-r-- 1 ubuntu ubuntu 858960 May 19 12:14 /home/ubuntu/panagosg7/data/weather/ALL.head-1000.csv\r\n"
       ]
      }
     ],
     "prompt_number": 60
    },
    {
     "cell_type": "code",
     "collapsed": false,
     "input": [
      "!python weather_01.py $local_data > $local_count_file"
     ],
     "language": "python",
     "metadata": {},
     "outputs": [
      {
       "output_type": "stream",
       "stream": "stdout",
       "text": [
        "using configs in /home/ubuntu/.mrjob.conf\r\n",
        "creating tmp directory /tmp/weather_01.ubuntu.20140520.082250.147050\r\n",
        "writing to /tmp/weather_01.ubuntu.20140520.082250.147050/step-0-mapper_part-00000\r\n"
       ]
      },
      {
       "output_type": "stream",
       "stream": "stdout",
       "text": [
        "Counters from step 1:\r\n",
        "  MrJob Counters:\r\n",
        "    combiner: 4\r\n",
        "    mapper-all: 999\r\n",
        "writing to /tmp/weather_01.ubuntu.20140520.082250.147050/step-0-mapper-sorted\r\n",
        "> sort /tmp/weather_01.ubuntu.20140520.082250.147050/step-0-mapper_part-00000\r\n",
        "writing to /tmp/weather_01.ubuntu.20140520.082250.147050/step-0-reducer_part-00000\r\n",
        "Counters from step 1:\r\n",
        "  MrJob Counters:\r\n",
        "    combiner: 4\r\n",
        "    mapper-all: 999\r\n",
        "    reducer: 4\r\n",
        "Moving /tmp/weather_01.ubuntu.20140520.082250.147050/step-0-reducer_part-00000 -> /tmp/weather_01.ubuntu.20140520.082250.147050/output/part-00000\r\n",
        "Streaming final output from /tmp/weather_01.ubuntu.20140520.082250.147050/output\r\n",
        "removing tmp directory /tmp/weather_01.ubuntu.20140520.082250.147050\r\n"
       ]
      }
     ],
     "prompt_number": 61
    },
    {
     "cell_type": "markdown",
     "metadata": {},
     "source": [
      "###Running on EMR"
     ]
    },
    {
     "cell_type": "code",
     "collapsed": false,
     "input": [
      "import pickle\n",
      "Creds= pickle.load(open('/home/ubuntu/Vault/Creds.pkl','rb'))\n",
      "print Creds.keys()\n",
      "print Creds['mrjob'].keys()\n",
      "pair=Creds['mrjob']\n",
      "key_id=pair['key_id']\n",
      "secret_key=pair['secret_key']\n",
      "ID=pair['ID']\n",
      "print ID,key_id"
     ],
     "language": "python",
     "metadata": {},
     "outputs": []
    },
    {
     "cell_type": "code",
     "collapsed": false,
     "input": [
      "job_flow_id=find_waiting_flow(key_id,secret_key)\n",
      "job_flow_id"
     ],
     "language": "python",
     "metadata": {},
     "outputs": [
      {
       "output_type": "stream",
       "stream": "stdout",
       "text": [
        "<boto.emr.emrobject.JobFlow object at 0x8ad7b10> no_script.yoavfreund.20140517.080731.371759 j-1RE8D7HBISOI0 WAITING\n",
        "<boto.emr.emrobject.JobFlow object at 0x827f390> no_script.yoavfreund.20140516.040032.370095 j-262J0JTFJIRLO WAITING\n"
       ]
      },
      {
       "metadata": {},
       "output_type": "pyout",
       "prompt_number": 63,
       "text": [
        "u'j-262J0JTFJIRLO'"
       ]
      }
     ],
     "prompt_number": 63
    },
    {
     "cell_type": "code",
     "collapsed": false,
     "input": [
      "emr_count_file = output_dir + 'counts_emr.txt'"
     ],
     "language": "python",
     "metadata": {},
     "outputs": [],
     "prompt_number": 64
    },
    {
     "cell_type": "code",
     "collapsed": false,
     "input": [
      "!python weather_01.py -r emr --emr-job-flow-id  $job_flow_id hdfs:/weather/weather.csv > $emr_count_file"
     ],
     "language": "python",
     "metadata": {},
     "outputs": [
      {
       "output_type": "stream",
       "stream": "stdout",
       "text": [
        "using configs in /home/ubuntu/.mrjob.conf\r\n"
       ]
      },
      {
       "output_type": "stream",
       "stream": "stdout",
       "text": [
        "creating tmp directory /tmp/weather_01.ubuntu.20140520.074654.319468\r\n"
       ]
      },
      {
       "output_type": "stream",
       "stream": "stdout",
       "text": [
        "Copying non-input files into s3://pvekris.bucket/scratch/weather_01.ubuntu.20140520.074654.319468/files/\r\n"
       ]
      },
      {
       "output_type": "stream",
       "stream": "stdout",
       "text": [
        "Adding our job to existing job flow j-262J0JTFJIRLO\r\n"
       ]
      },
      {
       "output_type": "stream",
       "stream": "stdout",
       "text": [
        "Job launched 30.2s ago, status RUNNING: Running step (weather_01.ubuntu.20140520.074654.319468: Step 1 of 1)\r\n"
       ]
      },
      {
       "output_type": "stream",
       "stream": "stdout",
       "text": [
        "Job launched 60.5s ago, status RUNNING: Running step (weather_01.ubuntu.20140520.074654.319468: Step 1 of 1)\r\n"
       ]
      },
      {
       "output_type": "stream",
       "stream": "stdout",
       "text": [
        "Job launched 90.8s ago, status RUNNING: Running step (weather_01.ubuntu.20140520.074654.319468: Step 1 of 1)\r\n"
       ]
      },
      {
       "output_type": "stream",
       "stream": "stdout",
       "text": [
        "Job launched 121.1s ago, status RUNNING: Running step (weather_01.ubuntu.20140520.074654.319468: Step 1 of 1)\r\n"
       ]
      },
      {
       "output_type": "stream",
       "stream": "stdout",
       "text": [
        "Job completed.\r\n",
        "Running time was 122.0s (not counting time spent waiting for the EC2 instances)\r\n",
        "ec2_key_pair_file not specified, going to S3\r\n",
        "Fetching counters from S3...\r\n",
        "Waiting 5.0s for S3 eventual consistency\r\n"
       ]
      },
      {
       "output_type": "stream",
       "stream": "stdout",
       "text": [
        "Counters may not have been uploaded to S3 yet. Try again in 5 minutes with: mrjob fetch-logs --counters j-262J0JTFJIRLO\r\n",
        "Counters from step 1:\r\n",
        "  (no counters found)\r\n",
        "Streaming final output from s3://pvekris.bucket/scratch/weather_01.ubuntu.20140520.074654.319468/output/\r\n"
       ]
      },
      {
       "output_type": "stream",
       "stream": "stdout",
       "text": [
        "removing tmp directory /tmp/weather_01.ubuntu.20140520.074654.319468\r\n",
        "Removing all files in s3://pvekris.bucket/scratch/weather_01.ubuntu.20140520.074654.319468/\r\n"
       ]
      }
     ],
     "prompt_number": 18
    },
    {
     "cell_type": "markdown",
     "metadata": {},
     "source": [
      "###Read Stations"
     ]
    },
    {
     "cell_type": "markdown",
     "metadata": {},
     "source": [
      "Read the stations information into a Pandas Dataframe:"
     ]
    },
    {
     "cell_type": "code",
     "collapsed": false,
     "input": [
      "import pickle\n",
      "\n",
      "stations_file='/home/ubuntu/panagosg7/notebooks/weather.mapreduce/stations.pkl'\n",
      "!ls -l $stations_file\n",
      "\n",
      "file=open(stations_file)\n",
      "stations_df=pickle.load(file)\n",
      "type(stations_df)\n",
      "stations_coords_df = stations_df.ix[:,['longitude', 'latitude']]\n",
      "\n",
      "stations_coords_df.head()"
     ],
     "language": "python",
     "metadata": {},
     "outputs": [
      {
       "output_type": "stream",
       "stream": "stdout",
       "text": [
        "-rw-rw-r-- 1 ubuntu ubuntu 8051413 May 15 12:21 /home/ubuntu/panagosg7/notebooks/weather.mapreduce/stations.pkl\r\n"
       ]
      },
      {
       "html": [
        "<div style=\"max-height:1000px;max-width:1500px;overflow:auto;\">\n",
        "<table border=\"1\" class=\"dataframe\">\n",
        "  <thead>\n",
        "    <tr style=\"text-align: right;\">\n",
        "      <th></th>\n",
        "      <th>longitude</th>\n",
        "      <th>latitude</th>\n",
        "    </tr>\n",
        "  </thead>\n",
        "  <tbody>\n",
        "    <tr>\n",
        "      <th>ACW00011604</th>\n",
        "      <td>-61.7833</td>\n",
        "      <td> 17.1167</td>\n",
        "    </tr>\n",
        "    <tr>\n",
        "      <th>ACW00011647</th>\n",
        "      <td>-61.7833</td>\n",
        "      <td> 17.1333</td>\n",
        "    </tr>\n",
        "    <tr>\n",
        "      <th>AE000041196</th>\n",
        "      <td> 55.5170</td>\n",
        "      <td> 25.3330</td>\n",
        "    </tr>\n",
        "    <tr>\n",
        "      <th>AF000040930</th>\n",
        "      <td> 69.0170</td>\n",
        "      <td> 35.3170</td>\n",
        "    </tr>\n",
        "    <tr>\n",
        "      <th>AG000060390</th>\n",
        "      <td>  3.2500</td>\n",
        "      <td> 36.7167</td>\n",
        "    </tr>\n",
        "  </tbody>\n",
        "</table>\n",
        "<p>5 rows \u00d7 2 columns</p>\n",
        "</div>"
       ],
       "metadata": {},
       "output_type": "pyout",
       "prompt_number": 65,
       "text": [
        "             longitude  latitude\n",
        "ACW00011604   -61.7833   17.1167\n",
        "ACW00011647   -61.7833   17.1333\n",
        "AE000041196    55.5170   25.3330\n",
        "AF000040930    69.0170   35.3170\n",
        "AG000060390     3.2500   36.7167\n",
        "\n",
        "[5 rows x 2 columns]"
       ]
      }
     ],
     "prompt_number": 65
    },
    {
     "cell_type": "code",
     "collapsed": false,
     "input": [
      "shape(stations_coords_df)"
     ],
     "language": "python",
     "metadata": {},
     "outputs": [
      {
       "metadata": {},
       "output_type": "pyout",
       "prompt_number": 66,
       "text": [
        "(85284, 2)"
       ]
      }
     ],
     "prompt_number": 66
    },
    {
     "cell_type": "code",
     "collapsed": false,
     "input": [
      "# # This is how to create an array out these:\n",
      "# ix = ALL_Stations.index.values\n",
      "# ix = ix.reshape(len(ix),1)\n",
      "# coords = np.hstack((ix,ll))\n",
      "\n",
      "# # Sort by longitude\n",
      "# coords = coords[coords[:,1].argsort()]"
     ],
     "language": "python",
     "metadata": {},
     "outputs": [],
     "prompt_number": 67
    },
    {
     "cell_type": "markdown",
     "metadata": {},
     "source": [
      "Read the file that contains the **count** for each station into another Panda Dataframe:"
     ]
    },
    {
     "cell_type": "code",
     "collapsed": false,
     "input": [
      "from matplotlib import pyplot as plt\n",
      "import numpy as np\n",
      "\n",
      "with open(emr_count_file) as f:\n",
      "    counts_df = pd.read_table(f, index_col=0, header=None, names = ['counts'] )\n",
      "\n",
      "counts_df.head()"
     ],
     "language": "python",
     "metadata": {},
     "outputs": [
      {
       "html": [
        "<div style=\"max-height:1000px;max-width:1500px;overflow:auto;\">\n",
        "<table border=\"1\" class=\"dataframe\">\n",
        "  <thead>\n",
        "    <tr style=\"text-align: right;\">\n",
        "      <th></th>\n",
        "      <th>counts</th>\n",
        "    </tr>\n",
        "  </thead>\n",
        "  <tbody>\n",
        "    <tr>\n",
        "      <th>AJ000037756</th>\n",
        "      <td> 25</td>\n",
        "    </tr>\n",
        "    <tr>\n",
        "      <th>AJ000037844</th>\n",
        "      <td> 25</td>\n",
        "    </tr>\n",
        "    <tr>\n",
        "      <th>AJ000037866</th>\n",
        "      <td> 24</td>\n",
        "    </tr>\n",
        "    <tr>\n",
        "      <th>AJ000037899</th>\n",
        "      <td> 20</td>\n",
        "    </tr>\n",
        "    <tr>\n",
        "      <th>AJ000037907</th>\n",
        "      <td> 41</td>\n",
        "    </tr>\n",
        "  </tbody>\n",
        "</table>\n",
        "<p>5 rows \u00d7 1 columns</p>\n",
        "</div>"
       ],
       "metadata": {},
       "output_type": "pyout",
       "prompt_number": 93,
       "text": [
        "             counts\n",
        "AJ000037756      25\n",
        "AJ000037844      25\n",
        "AJ000037866      24\n",
        "AJ000037899      20\n",
        "AJ000037907      41\n",
        "\n",
        "[5 rows x 1 columns]"
       ]
      }
     ],
     "prompt_number": 93
    },
    {
     "cell_type": "code",
     "collapsed": false,
     "input": [
      "shape(counts_df)"
     ],
     "language": "python",
     "metadata": {},
     "outputs": [
      {
       "metadata": {},
       "output_type": "pyout",
       "prompt_number": 94,
       "text": [
        "(29322, 1)"
       ]
      }
     ],
     "prompt_number": 94
    },
    {
     "cell_type": "markdown",
     "metadata": {},
     "source": [
      "Compute the join of each station with the longitude and latitude."
     ]
    },
    {
     "cell_type": "code",
     "collapsed": false,
     "input": [
      "stations = counts_df.join(stations_coords_df)\n",
      "stations.head()"
     ],
     "language": "python",
     "metadata": {},
     "outputs": [
      {
       "html": [
        "<div style=\"max-height:1000px;max-width:1500px;overflow:auto;\">\n",
        "<table border=\"1\" class=\"dataframe\">\n",
        "  <thead>\n",
        "    <tr style=\"text-align: right;\">\n",
        "      <th></th>\n",
        "      <th>counts</th>\n",
        "      <th>longitude</th>\n",
        "      <th>latitude</th>\n",
        "    </tr>\n",
        "  </thead>\n",
        "  <tbody>\n",
        "    <tr>\n",
        "      <th>AJ000037756</th>\n",
        "      <td> 25</td>\n",
        "      <td> 48.933</td>\n",
        "      <td> 40.533</td>\n",
        "    </tr>\n",
        "    <tr>\n",
        "      <th>AJ000037844</th>\n",
        "      <td> 25</td>\n",
        "      <td> 48.167</td>\n",
        "      <td> 40.333</td>\n",
        "    </tr>\n",
        "    <tr>\n",
        "      <th>AJ000037866</th>\n",
        "      <td> 24</td>\n",
        "      <td> 50.317</td>\n",
        "      <td> 40.467</td>\n",
        "    </tr>\n",
        "    <tr>\n",
        "      <th>AJ000037899</th>\n",
        "      <td> 20</td>\n",
        "      <td> 46.750</td>\n",
        "      <td> 39.767</td>\n",
        "    </tr>\n",
        "    <tr>\n",
        "      <th>AJ000037907</th>\n",
        "      <td> 41</td>\n",
        "      <td> 47.150</td>\n",
        "      <td> 39.600</td>\n",
        "    </tr>\n",
        "  </tbody>\n",
        "</table>\n",
        "<p>5 rows \u00d7 3 columns</p>\n",
        "</div>"
       ],
       "metadata": {},
       "output_type": "pyout",
       "prompt_number": 98,
       "text": [
        "             counts  longitude  latitude\n",
        "AJ000037756      25     48.933    40.533\n",
        "AJ000037844      25     48.167    40.333\n",
        "AJ000037866      24     50.317    40.467\n",
        "AJ000037899      20     46.750    39.767\n",
        "AJ000037907      41     47.150    39.600\n",
        "\n",
        "[5 rows x 3 columns]"
       ]
      }
     ],
     "prompt_number": 98
    },
    {
     "cell_type": "code",
     "collapsed": false,
     "input": [
      "shape(stations)"
     ],
     "language": "python",
     "metadata": {},
     "outputs": [
      {
       "metadata": {},
       "output_type": "pyout",
       "prompt_number": 129,
       "text": [
        "(29322, 3)"
       ]
      }
     ],
     "prompt_number": 129
    },
    {
     "cell_type": "code",
     "collapsed": false,
     "input": [
      "\n",
      "# latitude groups\n",
      "la_groups   = 10\n",
      "\n",
      "# total number of measurements\n",
      "tot_counts = sum(stations['counts'])     \n",
      "\n",
      "# number of measurements in each latitude group (band)\n",
      "la_width = ceil(tot_counts/la_groups)+1\n",
      "\n",
      "# Sort by latitude so that stations are grouped \n",
      "lat_sorted_stations = stations.sort('latitude')\n",
      "\n",
      "# Compute a new column with the cummulative count of \n",
      "lat_sorted_stations['cum_lat_counts'] = lat_sorted_stations['counts'].cumsum()\n",
      "\n",
      "lat_sorted_stations['la_group'] = floor(lat_sorted_stations['cum_lat_counts'] / la_width)\n",
      "\n",
      "lat_grouped_stations = lat_sorted_stations.groupby(['la_group'])\n",
      "\n",
      "# As we can see we have splitted the stations in groups of\n",
      "# approximately the same number of measurements\n",
      "print lat_grouped_stations['counts'].sum()\n",
      "\n",
      "# Also interesting statistics:\n",
      "#lat_grouped_stations['counts'].describe()"
     ],
     "language": "python",
     "metadata": {},
     "outputs": [
      {
       "output_type": "stream",
       "stream": "stdout",
       "text": [
        "la_group\n",
        "0           96790\n",
        "1           96734\n",
        "2           96830\n",
        "3           96796\n",
        "4           96789\n",
        "5           96817\n",
        "6           96793\n",
        "7           96799\n",
        "8           96748\n",
        "9           96835\n",
        "Name: counts, dtype: int64\n"
       ]
      },
      {
       "metadata": {},
       "output_type": "pyout",
       "prompt_number": 164,
       "text": [
        "la_group       \n",
        "0         count    3462.000000\n",
        "          mean       27.957828\n",
        "          std        22.684333\n",
        "          min         1.000000\n",
        "          25%        10.000000\n",
        "          50%        22.000000\n",
        "          75%        42.750000\n",
        "          max       158.000000\n",
        "1         count    2781.000000\n",
        "          mean       34.783891\n",
        "          std        32.458657\n",
        "          min         1.000000\n",
        "          25%         9.000000\n",
        "          50%        22.000000\n",
        "          75%        57.000000\n",
        "...\n",
        "8         mean       32.751523\n",
        "          std        28.110189\n",
        "          min         1.000000\n",
        "          25%        11.000000\n",
        "          50%        23.000000\n",
        "          75%        46.000000\n",
        "          max       231.000000\n",
        "9         count    3018.000000\n",
        "          mean       32.085818\n",
        "          std        27.040234\n",
        "          min         1.000000\n",
        "          25%        10.000000\n",
        "          50%        23.000000\n",
        "          75%        51.000000\n",
        "          max       141.000000\n",
        "Length: 80, dtype: float64"
       ]
      }
     ],
     "prompt_number": 164
    },
    {
     "cell_type": "code",
     "collapsed": false,
     "input": [
      "for lat_id, group  in lat_grouped_stations:\n",
      "    \n",
      "    print\n",
      "    print \"-----------------------------\"\n",
      "    print 'lat_group', lat_id\n",
      "    print \"-----------------------------\"\n",
      "    \n",
      "    # longitude groups\n",
      "    lo_groups   = 10                         \n",
      "    \n",
      "    # total number of measurements\n",
      "    tot_counts = sum(group['counts'])    \n",
      "    \n",
      "    # number of measurements in each latitude group (band)\n",
      "    lo_width = ceil(tot_counts/lo_groups)+1\n",
      "\n",
      "    \n",
      "    # Sort by latitude so that stations are grouped \n",
      "    lon_sorted_stations = group.sort('longitude')\n",
      "    \n",
      "    # Compute a new column with the cummulative count of \n",
      "    lon_sorted_stations['cum_lon_counts'] = lon_sorted_stations['counts'].cumsum()\n",
      "\n",
      "    lon_sorted_stations['lo_group'] = floor(lon_sorted_stations['cum_lon_counts'] / lo_width)\n",
      "\n",
      "    lon_grouped_stations = lon_sorted_stations.groupby(['lo_group'])\n",
      "\n",
      "    print lon_grouped_stations['counts'].sum()\n",
      "        \n",
      "    #print group"
     ],
     "language": "python",
     "metadata": {},
     "outputs": [
      {
       "output_type": "stream",
       "stream": "stdout",
       "text": [
        "\n",
        "-----------------------------\n",
        "lat_group 0.0\n",
        "-----------------------------\n",
        "lo_group\n",
        "0           9677\n",
        "1           9617\n",
        "2           9742\n",
        "3           9680\n",
        "4           9633\n",
        "5           9727\n",
        "6           9676\n",
        "7           9678\n",
        "8           9671\n",
        "9           9689\n",
        "Name: counts, dtype: int64\n",
        "\n",
        "-----------------------------\n",
        "lat_group 1.0\n",
        "-----------------------------\n",
        "lo_group\n",
        "0           9604\n",
        "1           9703\n",
        "2           9711\n",
        "3           9668\n",
        "4           9682\n",
        "5           9623\n",
        "6           9698\n",
        "7           9656\n",
        "8           9713\n",
        "9           9676\n",
        "Name: counts, dtype: int64\n",
        "\n",
        "-----------------------------\n",
        "lat_group 2.0\n",
        "-----------------------------\n",
        "lo_group\n",
        "0           9631\n",
        "1           9735\n",
        "2           9608\n",
        "3           9667\n",
        "4           9716\n",
        "5           9716\n",
        "6           9714\n",
        "7           9626\n",
        "8           9740\n",
        "9           9677\n",
        "Name: counts, dtype: int64\n",
        "\n",
        "-----------------------------\n",
        "lat_group 3.0\n",
        "-----------------------------\n",
        "lo_group\n",
        "0           9592\n",
        "1           9740\n",
        "2           9668\n",
        "3           9620\n",
        "4           9754\n",
        "5           9705\n",
        "6           9677\n",
        "7           9676\n",
        "8           9653\n",
        "9           9711\n",
        "Name: counts, dtype: int64\n",
        "\n",
        "-----------------------------\n",
        "lat_group 4.0\n",
        "-----------------------------\n",
        "lo_group\n",
        "0           9614\n",
        "1           9726\n",
        "2           9634\n",
        "3           9632\n",
        "4           9720\n",
        "5           9744\n",
        "6           9660\n",
        "7           9685\n",
        "8           9644\n",
        "9           9730\n",
        "Name: counts, dtype: int64\n",
        "\n",
        "-----------------------------\n",
        "lat_group 5.0\n",
        "-----------------------------\n",
        "lo_group\n",
        "0           9680\n",
        "1           9673\n",
        "2           9611\n",
        "3           9747\n",
        "4           9690\n",
        "5           9684\n",
        "6           9680\n",
        "7           9670\n",
        "8           9697\n",
        "9           9685\n",
        "Name: counts, dtype: int64\n",
        "\n",
        "-----------------------------\n",
        "lat_group 6.0\n",
        "-----------------------------\n",
        "lo_group\n",
        "0           9677\n",
        "1           9664\n",
        "2           9668\n",
        "3           9660\n",
        "4           9719\n",
        "5           9652\n",
        "6           9705\n",
        "7           9659\n",
        "8           9700\n",
        "9           9689\n",
        "Name: counts, dtype: int64\n",
        "\n",
        "-----------------------------\n",
        "lat_group 7.0\n",
        "-----------------------------\n",
        "lo_group\n",
        "0           9659\n",
        "1           9682\n",
        "2           9693\n",
        "3           9625\n",
        "4           9708\n",
        "5           9668\n",
        "6           9673\n",
        "7           9702\n",
        "8           9699\n",
        "9           9690\n",
        "Name: counts, dtype: int64\n",
        "\n",
        "-----------------------------\n",
        "lat_group 8.0\n",
        "-----------------------------\n",
        "lo_group\n",
        "0           9660\n",
        "1           9672\n",
        "2           9691\n",
        "3           9622\n",
        "4           9721\n",
        "5           9679\n",
        "6           9674\n",
        "7           9672\n",
        "8           9647\n",
        "9           9710\n",
        "Name: counts, dtype: int64\n",
        "\n",
        "-----------------------------\n",
        "lat_group 9.0\n",
        "-----------------------------\n",
        "lo_group\n",
        "0           9683\n",
        "1           9666\n",
        "2           9652\n",
        "3           9723\n",
        "4           9660\n",
        "5           9682\n",
        "6           9626\n",
        "7           9761\n",
        "8           9662\n",
        "9           9720\n",
        "Name: counts, dtype: int64\n"
       ]
      }
     ],
     "prompt_number": 172
    }
   ],
   "metadata": {}
  }
 ]
}