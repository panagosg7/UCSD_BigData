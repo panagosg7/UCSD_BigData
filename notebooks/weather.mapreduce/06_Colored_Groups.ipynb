{
 "metadata": {
  "name": "",
  "signature": "sha256:7461e1a119cd29d3725111565f92e68974b7d34755b74ba1ce04c363f9c487b0"
 },
 "nbformat": 3,
 "nbformat_minor": 0,
 "worksheets": [
  {
   "cells": [
    {
     "cell_type": "markdown",
     "metadata": {},
     "source": [
      "#Main Analysis\n",
      "\n",
      "This module performs the main iteration of the algorithm.\n",
      "\n",
      "This notebooks includes: \n",
      "* the code for the iterative algorithm\n",
      "* results from running the above locally on a small sample of the input and on\n",
      "  the original (~9GB) input file on EMR.\n",
      "  \n",
      "All of the above both explained in detail below."
     ]
    },
    {
     "cell_type": "code",
     "collapsed": false,
     "input": [
      "import pandas as pd\n",
      "import numpy as np\n",
      "import sklearn as sk\n",
      "print 'pandas version: ',pd.__version__\n",
      "print 'numpy version:',np.__version__\n",
      "print 'sklearn version:',sk.__version__\n",
      "import pickle\n",
      "import gzip"
     ],
     "language": "python",
     "metadata": {},
     "outputs": [
      {
       "output_type": "stream",
       "stream": "stdout",
       "text": [
        "pandas version:  0.13.1\n",
        "numpy version: 1.8.1\n",
        "sklearn version: 0.14.1\n"
       ]
      }
     ],
     "prompt_number": 36
    },
    {
     "cell_type": "code",
     "collapsed": false,
     "input": [
      "import sys\n",
      "home_dir='/home/ubuntu/panagosg7'\n",
      "sys.path.append(home_dir+'/utils')\n",
      "from AWS_keypair_management import *"
     ],
     "language": "python",
     "metadata": {},
     "outputs": [],
     "prompt_number": 37
    },
    {
     "cell_type": "markdown",
     "metadata": {},
     "source": [
      "###Load code"
     ]
    },
    {
     "cell_type": "markdown",
     "metadata": {},
     "source": [
      "##Testing out parts of the framework"
     ]
    },
    {
     "cell_type": "code",
     "collapsed": false,
     "input": [
      "# the dataframe containing stations with 'weight' information\n",
      "gstations = pd.read_pickle('climate_colored.pkl')\n",
      "shape(gstations)"
     ],
     "language": "python",
     "metadata": {},
     "outputs": [
      {
       "metadata": {},
       "output_type": "pyout",
       "prompt_number": 38,
       "text": [
        "(21123, 3)"
       ]
      }
     ],
     "prompt_number": 38
    },
    {
     "cell_type": "code",
     "collapsed": false,
     "input": [
      "shape(gstations['gid'].unique())"
     ],
     "language": "python",
     "metadata": {},
     "outputs": [
      {
       "metadata": {},
       "output_type": "pyout",
       "prompt_number": 7,
       "text": [
        "(27,)"
       ]
      }
     ],
     "prompt_number": 7
    },
    {
     "cell_type": "heading",
     "level": 1,
     "metadata": {},
     "source": [
      "PCA"
     ]
    },
    {
     "cell_type": "code",
     "collapsed": false,
     "input": [
      "%run misc.py\n",
      "%run merging.py"
     ],
     "language": "python",
     "metadata": {},
     "outputs": [],
     "prompt_number": 8
    },
    {
     "cell_type": "code",
     "collapsed": false,
     "input": [
      "shape(gstations)\n",
      "pickle_dump(gstations, 'colored_stations.pklz')\n",
      "# this is normal"
     ],
     "language": "python",
     "metadata": {},
     "outputs": [],
     "prompt_number": 12
    },
    {
     "cell_type": "heading",
     "level": 2,
     "metadata": {},
     "source": [
      "Local"
     ]
    },
    {
     "cell_type": "code",
     "collapsed": false,
     "input": [
      "cmd_id = 'colored'\n",
      "output_file   = '/home/ubuntu/panagosg7/notebooks/weather.mapreduce/output/pca_local.txt'\n",
      "stations_file = '/home/ubuntu/panagosg7/notebooks/weather.mapreduce/colored_stations.pklz'\n",
      "#input_data    = '/home/ubuntu/data/weather/ALL.head.csv'    # 1000\n",
      "input_data    = '/home/ubuntu/data/weather/SAMPLE_TMAX.csv'  # 20000\n",
      "\n",
      "cmd = pca_cmd(cmd_id, input_data, stations_file, output_file, emr=False)\n",
      "cmd"
     ],
     "language": "python",
     "metadata": {},
     "outputs": [
      {
       "metadata": {},
       "output_type": "pyout",
       "prompt_number": 21,
       "text": [
        "'python pca.py /home/ubuntu/data/weather/SAMPLE_TMAX.csv --id colored --stations /home/ubuntu/panagosg7/notebooks/weather.mapreduce/colored_stations.pklz --creds /home/ubuntu/Vault/Creds.pkl > /home/ubuntu/panagosg7/notebooks/weather.mapreduce/output/pca_local.txt'"
       ]
      }
     ],
     "prompt_number": 21
    },
    {
     "cell_type": "code",
     "collapsed": false,
     "input": [
      "!eval $cmd"
     ],
     "language": "python",
     "metadata": {},
     "outputs": [
      {
       "output_type": "stream",
       "stream": "stdout",
       "text": [
        "using configs in /home/ubuntu/.mrjob.conf\r\n",
        "creating tmp directory /tmp/pca.ubuntu.20140613.041705.686884\r\n"
       ]
      },
      {
       "output_type": "stream",
       "stream": "stdout",
       "text": [
        "writing to /tmp/pca.ubuntu.20140613.041705.686884/step-0-mapper_part-00000\r\n"
       ]
      },
      {
       "output_type": "stream",
       "stream": "stdout",
       "text": [
        "Counters from step 1:\r\n",
        "  MrJob Counters:\r\n",
        "    mapper-all: 20000\r\n",
        "writing to /tmp/pca.ubuntu.20140613.041705.686884/step-0-mapper-sorted\r\n",
        "> sort /tmp/pca.ubuntu.20140613.041705.686884/step-0-mapper_part-00000\r\n"
       ]
      },
      {
       "output_type": "stream",
       "stream": "stdout",
       "text": [
        "writing to /tmp/pca.ubuntu.20140613.041705.686884/step-0-reducer_part-00000\r\n",
        "."
       ]
      },
      {
       "output_type": "stream",
       "stream": "stdout",
       "text": [
        "."
       ]
      },
      {
       "output_type": "stream",
       "stream": "stdout",
       "text": [
        "."
       ]
      },
      {
       "output_type": "stream",
       "stream": "stdout",
       "text": [
        "."
       ]
      },
      {
       "output_type": "stream",
       "stream": "stdout",
       "text": [
        "."
       ]
      },
      {
       "output_type": "stream",
       "stream": "stdout",
       "text": [
        "."
       ]
      },
      {
       "output_type": "stream",
       "stream": "stdout",
       "text": [
        "."
       ]
      },
      {
       "output_type": "stream",
       "stream": "stdout",
       "text": [
        "."
       ]
      },
      {
       "output_type": "stream",
       "stream": "stdout",
       "text": [
        "."
       ]
      },
      {
       "output_type": "stream",
       "stream": "stdout",
       "text": [
        "."
       ]
      },
      {
       "output_type": "stream",
       "stream": "stdout",
       "text": [
        "."
       ]
      },
      {
       "output_type": "stream",
       "stream": "stdout",
       "text": [
        "."
       ]
      },
      {
       "output_type": "stream",
       "stream": "stdout",
       "text": [
        "."
       ]
      },
      {
       "output_type": "stream",
       "stream": "stdout",
       "text": [
        "."
       ]
      },
      {
       "output_type": "stream",
       "stream": "stdout",
       "text": [
        "."
       ]
      },
      {
       "output_type": "stream",
       "stream": "stdout",
       "text": [
        "."
       ]
      },
      {
       "output_type": "stream",
       "stream": "stdout",
       "text": [
        "."
       ]
      },
      {
       "output_type": "stream",
       "stream": "stdout",
       "text": [
        "."
       ]
      },
      {
       "output_type": "stream",
       "stream": "stdout",
       "text": [
        "."
       ]
      },
      {
       "output_type": "stream",
       "stream": "stdout",
       "text": [
        "."
       ]
      },
      {
       "output_type": "stream",
       "stream": "stdout",
       "text": [
        "."
       ]
      },
      {
       "output_type": "stream",
       "stream": "stdout",
       "text": [
        "."
       ]
      },
      {
       "output_type": "stream",
       "stream": "stdout",
       "text": [
        "."
       ]
      },
      {
       "output_type": "stream",
       "stream": "stdout",
       "text": [
        "."
       ]
      },
      {
       "output_type": "stream",
       "stream": "stdout",
       "text": [
        "."
       ]
      },
      {
       "output_type": "stream",
       "stream": "stdout",
       "text": [
        "."
       ]
      },
      {
       "output_type": "stream",
       "stream": "stdout",
       "text": [
        "Counters from step 1:\r\n",
        "  MrJob Counters:\r\n",
        "    mapper-all: 20000\r\n",
        "    reducer: 26\r\n",
        "Moving /tmp/pca.ubuntu.20140613.041705.686884/step-0-reducer_part-00000 -> /tmp/pca.ubuntu.20140613.041705.686884/output/part-00000\r\n",
        "Streaming final output from /tmp/pca.ubuntu.20140613.041705.686884/output\r\n",
        "removing tmp directory /tmp/pca.ubuntu.20140613.041705.686884\r\n"
       ]
      }
     ],
     "prompt_number": 22
    },
    {
     "cell_type": "heading",
     "level": 2,
     "metadata": {},
     "source": [
      "EMR"
     ]
    },
    {
     "cell_type": "code",
     "collapsed": false,
     "input": [
      "cmd_id        = 'emr_colored'\n",
      "output_file   = '/home/ubuntu/panagosg7/notebooks/weather.mapreduce/output/pca_emr.txt'\n",
      "stations_file = '/home/ubuntu/panagosg7/notebooks/weather.mapreduce/grouped_stations.pklz'\n",
      "input_data    = 'hdfs:/weather.raw_data/ALL.csv'\n",
      "#input_data    = '/home/ubuntu/data/weather/ALL.head.csv'\n",
      "\n",
      "cmd = pca_cmd(cmd_id, input_data, stations_file, output_file, emr=True)\n",
      "cmd"
     ],
     "language": "python",
     "metadata": {},
     "outputs": [
      {
       "output_type": "stream",
       "stream": "stdout",
       "text": [
        "<boto.emr.emrobject.JobFlow object at 0x3c429d0> no_script.yoavfreund.20140610.012507.678804 j-NIGXU2E6YEU3 WAITING\n",
        "<boto.emr.emrobject.JobFlow object at 0x3be6250> no_script.yoavfreund.20140610.012515.693483 j-3SOQM885E1GLH WAITING\n",
        "<boto.emr.emrobject.JobFlow object at 0x3dd7350> no_script.yoavfreund.20140610.012523.713192 j-34Q4HR41T9BWU WAITING\n",
        "<boto.emr.emrobject.JobFlow object at 0x3de0f50> no_script.yoavfreund.20140611.181703.600873 j-2N4U1USC54EM6 WAITING\n",
        "<boto.emr.emrobject.JobFlow object at 0x3d92710> no_script.yoavfreund.20140611.181713.270989 j-3QZOHADZF9KY1 WAITING\n",
        "<boto.emr.emrobject.JobFlow object at 0x4ea65d0> no_script.yoavfreund.20140611.181738.864430 j-3TFYHEIHI9VOY WAITING\n"
       ]
      },
      {
       "metadata": {},
       "output_type": "pyout",
       "prompt_number": 28,
       "text": [
        "u'python pca.py hdfs:/weather.raw_data/ALL.csv -r emr --emr-job-flow-id j-3TFYHEIHI9VOY --id emr_colored --stations /home/ubuntu/panagosg7/notebooks/weather.mapreduce/grouped_stations.pklz --creds /home/ubuntu/Vault/Creds.pkl > /home/ubuntu/panagosg7/notebooks/weather.mapreduce/output/pca_emr.txt'"
       ]
      }
     ],
     "prompt_number": 28
    },
    {
     "cell_type": "code",
     "collapsed": false,
     "input": [
      "%time !eval $cmd"
     ],
     "language": "python",
     "metadata": {},
     "outputs": [
      {
       "output_type": "stream",
       "stream": "stdout",
       "text": [
        "using configs in /home/ubuntu/.mrjob.conf\r\n"
       ]
      },
      {
       "output_type": "stream",
       "stream": "stdout",
       "text": [
        "creating tmp directory /tmp/pca.ubuntu.20140613.041929.746512\r\n"
       ]
      },
      {
       "output_type": "stream",
       "stream": "stdout",
       "text": [
        "Copying non-input files into s3://pvekris.bucket/scratch/pca.ubuntu.20140613.041929.746512/files/\r\n"
       ]
      },
      {
       "output_type": "stream",
       "stream": "stdout",
       "text": [
        "Adding our job to existing job flow j-3TFYHEIHI9VOY\r\n"
       ]
      },
      {
       "output_type": "stream",
       "stream": "stdout",
       "text": [
        "Job launched 30.9s ago, status RUNNING: Running step (pca.ubuntu.20140613.041929.746512: Step 1 of 1)\r\n"
       ]
      },
      {
       "output_type": "stream",
       "stream": "stdout",
       "text": [
        "Job launched 61.9s ago, status RUNNING: Running step (pca.ubuntu.20140613.041929.746512: Step 1 of 1)\r\n"
       ]
      },
      {
       "output_type": "stream",
       "stream": "stdout",
       "text": [
        "Job launched 92.9s ago, status RUNNING: Running step (pca.ubuntu.20140613.041929.746512: Step 1 of 1)\r\n"
       ]
      },
      {
       "output_type": "stream",
       "stream": "stdout",
       "text": [
        "Job launched 123.9s ago, status RUNNING: Running step (pca.ubuntu.20140613.041929.746512: Step 1 of 1)\r\n"
       ]
      },
      {
       "output_type": "stream",
       "stream": "stdout",
       "text": [
        "Job launched 155.0s ago, status RUNNING: Running step (pca.ubuntu.20140613.041929.746512: Step 1 of 1)\r\n"
       ]
      },
      {
       "output_type": "stream",
       "stream": "stdout",
       "text": [
        "Job launched 186.0s ago, status RUNNING: Running step (pca.ubuntu.20140613.041929.746512: Step 1 of 1)\r\n"
       ]
      },
      {
       "output_type": "stream",
       "stream": "stdout",
       "text": [
        "Job launched 216.9s ago, status RUNNING: Running step (pca.ubuntu.20140613.041929.746512: Step 1 of 1)\r\n"
       ]
      },
      {
       "output_type": "stream",
       "stream": "stdout",
       "text": [
        "Job launched 247.9s ago, status RUNNING: Running step (pca.ubuntu.20140613.041929.746512: Step 1 of 1)\r\n"
       ]
      },
      {
       "output_type": "stream",
       "stream": "stdout",
       "text": [
        "Job launched 278.8s ago, status RUNNING: Running step (pca.ubuntu.20140613.041929.746512: Step 1 of 1)\r\n"
       ]
      },
      {
       "output_type": "stream",
       "stream": "stdout",
       "text": [
        "Job completed.\r\n",
        "Running time was 272.0s (not counting time spent waiting for the EC2 instances)\r\n",
        "ec2_key_pair_file not specified, going to S3\r\n",
        "Fetching counters from S3...\r\n",
        "Waiting 5.0s for S3 eventual consistency\r\n"
       ]
      },
      {
       "output_type": "stream",
       "stream": "stdout",
       "text": [
        "Counters may not have been uploaded to S3 yet. Try again in 5 minutes with: mrjob fetch-logs --counters j-3TFYHEIHI9VOY\r\n",
        "Counters from step 1:\r\n",
        "  (no counters found)\r\n",
        "Streaming final output from s3://pvekris.bucket/scratch/pca.ubuntu.20140613.041929.746512/output/\r\n"
       ]
      },
      {
       "output_type": "stream",
       "stream": "stdout",
       "text": [
        "removing tmp directory /tmp/pca.ubuntu.20140613.041929.746512\r\n",
        "Removing all files in s3://pvekris.bucket/scratch/pca.ubuntu.20140613.041929.746512/\r\n"
       ]
      },
      {
       "output_type": "stream",
       "stream": "stdout",
       "text": [
        "CPU times: user 508 ms, sys: 216 ms, total: 724 ms\n",
        "Wall time: 5min 18s\n"
       ]
      }
     ],
     "prompt_number": 29
    },
    {
     "cell_type": "heading",
     "level": 1,
     "metadata": {},
     "source": [
      "COMPUTE PCA "
     ]
    },
    {
     "cell_type": "heading",
     "level": 3,
     "metadata": {},
     "source": [
      "Measurements in each group"
     ]
    },
    {
     "cell_type": "code",
     "collapsed": false,
     "input": [
      "print output_file\n",
      "counts = pd.from_csv(output_file, sep='\\t')\n",
      "counts.columns=['n']\n",
      "counts"
     ],
     "language": "python",
     "metadata": {},
     "outputs": [
      {
       "output_type": "stream",
       "stream": "stdout",
       "text": [
        "/home/ubuntu/panagosg7/notebooks/weather.mapreduce/output/pca_emr.txt\n"
       ]
      },
      {
       "html": [
        "<div style=\"max-height:1000px;max-width:1500px;overflow:auto;\">\n",
        "<table border=\"1\" class=\"dataframe\">\n",
        "  <thead>\n",
        "    <tr style=\"text-align: right;\">\n",
        "      <th></th>\n",
        "      <th>n</th>\n",
        "    </tr>\n",
        "    <tr>\n",
        "      <th>BWh</th>\n",
        "      <th></th>\n",
        "    </tr>\n",
        "  </thead>\n",
        "  <tbody>\n",
        "    <tr>\n",
        "      <th>Dsb</th>\n",
        "      <td>   651</td>\n",
        "    </tr>\n",
        "    <tr>\n",
        "      <th>EF</th>\n",
        "      <td>    65</td>\n",
        "    </tr>\n",
        "    <tr>\n",
        "      <th>BSk</th>\n",
        "      <td>  9250</td>\n",
        "    </tr>\n",
        "    <tr>\n",
        "      <th>Csb</th>\n",
        "      <td>  6760</td>\n",
        "    </tr>\n",
        "    <tr>\n",
        "      <th>Dfd</th>\n",
        "      <td>    40</td>\n",
        "    </tr>\n",
        "    <tr>\n",
        "      <th>Csa</th>\n",
        "      <td>  2892</td>\n",
        "    </tr>\n",
        "    <tr>\n",
        "      <th>Dfc</th>\n",
        "      <td>  7655</td>\n",
        "    </tr>\n",
        "    <tr>\n",
        "      <th>ET</th>\n",
        "      <td>   943</td>\n",
        "    </tr>\n",
        "    <tr>\n",
        "      <th>Aw</th>\n",
        "      <td>  1206</td>\n",
        "    </tr>\n",
        "    <tr>\n",
        "      <th>Cfc</th>\n",
        "      <td>   243</td>\n",
        "    </tr>\n",
        "    <tr>\n",
        "      <th>Dfb</th>\n",
        "      <td> 23718</td>\n",
        "    </tr>\n",
        "    <tr>\n",
        "      <th>Dwc</th>\n",
        "      <td>   818</td>\n",
        "    </tr>\n",
        "    <tr>\n",
        "      <th>Af</th>\n",
        "      <td>   733</td>\n",
        "    </tr>\n",
        "    <tr>\n",
        "      <th>BSh</th>\n",
        "      <td>  1500</td>\n",
        "    </tr>\n",
        "    <tr>\n",
        "      <th>Cfb</th>\n",
        "      <td>  7861</td>\n",
        "    </tr>\n",
        "    <tr>\n",
        "      <th>Dfa</th>\n",
        "      <td>  8576</td>\n",
        "    </tr>\n",
        "    <tr>\n",
        "      <th>Dwb</th>\n",
        "      <td>   419</td>\n",
        "    </tr>\n",
        "    <tr>\n",
        "      <th>Am</th>\n",
        "      <td>  1017</td>\n",
        "    </tr>\n",
        "    <tr>\n",
        "      <th>BWk</th>\n",
        "      <td>   976</td>\n",
        "    </tr>\n",
        "    <tr>\n",
        "      <th>Cfa</th>\n",
        "      <td> 25304</td>\n",
        "    </tr>\n",
        "    <tr>\n",
        "      <th>Cwb</th>\n",
        "      <td>   384</td>\n",
        "    </tr>\n",
        "    <tr>\n",
        "      <th>Dwa</th>\n",
        "      <td>   287</td>\n",
        "    </tr>\n",
        "    <tr>\n",
        "      <th>Cwa</th>\n",
        "      <td>   611</td>\n",
        "    </tr>\n",
        "    <tr>\n",
        "      <th>As</th>\n",
        "      <td>   104</td>\n",
        "    </tr>\n",
        "    <tr>\n",
        "      <th>Dsc</th>\n",
        "      <td>   262</td>\n",
        "    </tr>\n",
        "  </tbody>\n",
        "</table>\n",
        "<p>25 rows \u00d7 1 columns</p>\n",
        "</div>"
       ],
       "metadata": {},
       "output_type": "pyout",
       "prompt_number": 31,
       "text": [
        "         n\n",
        "BWh       \n",
        "Dsb    651\n",
        "EF      65\n",
        "BSk   9250\n",
        "Csb   6760\n",
        "Dfd     40\n",
        "Csa   2892\n",
        "Dfc   7655\n",
        "ET     943\n",
        "Aw    1206\n",
        "Cfc    243\n",
        "Dfb  23718\n",
        "Dwc    818\n",
        "Af     733\n",
        "BSh   1500\n",
        "Cfb   7861\n",
        "Dfa   8576\n",
        "Dwb    419\n",
        "Am    1017\n",
        "BWk    976\n",
        "Cfa  25304\n",
        "Cwb    384\n",
        "Dwa    287\n",
        "Cwa    611\n",
        "As     104\n",
        "Dsc    262\n",
        "\n",
        "[25 rows x 1 columns]"
       ]
      }
     ],
     "prompt_number": 31
    },
    {
     "cell_type": "heading",
     "level": 3,
     "metadata": {},
     "source": [
      "Read Covariance matrices"
     ]
    },
    {
     "cell_type": "code",
     "collapsed": false,
     "input": [
      "group_nums = counts.index\n",
      "shape(group_nums)"
     ],
     "language": "python",
     "metadata": {},
     "outputs": [
      {
       "metadata": {},
       "output_type": "pyout",
       "prompt_number": 40,
       "text": [
        "(25,)"
       ]
      }
     ],
     "prompt_number": 40
    },
    {
     "cell_type": "code",
     "collapsed": false,
     "input": [
      "import boto.exception\n",
      "import sys\n",
      "covs=[]\n",
      "not_found=[]\n",
      "print 'Reading', 'cov_' + cmd_id + '/'\n",
      "\n",
      "for (i,v) in counts.iterrows():\n",
      "    if v['n'] > 100:\n",
      "        try:            \n",
      "            s = 'cov_' + cmd_id + '/cov_' + str(i) + '.csv'\n",
      "            pd = read_csv_from_s3(s)\n",
      "\n",
      "            sys.stdout.write('.')\n",
      "            #if i % 10 == 0:\n",
      "            #    print 'just computed ', s    \n",
      "            covs.append((i,pd.as_matrix()))\n",
      "        except boto.exception.S3ResponseError as e:\n",
      "            # print 'cov/cov_' + str(i) + '.csv not found'\n",
      "            not_found.append(i)\n",
      "\n",
      "print 'cov matrices not found', not_found"
     ],
     "language": "python",
     "metadata": {},
     "outputs": [
      {
       "output_type": "stream",
       "stream": "stdout",
       "text": [
        "Reading cov_emr_colored/\n",
        "."
       ]
      },
      {
       "output_type": "stream",
       "stream": "stdout",
       "text": [
        ".."
       ]
      },
      {
       "output_type": "stream",
       "stream": "stdout",
       "text": [
        ".."
       ]
      },
      {
       "output_type": "stream",
       "stream": "stdout",
       "text": [
        ".."
       ]
      },
      {
       "output_type": "stream",
       "stream": "stdout",
       "text": [
        ".."
       ]
      },
      {
       "output_type": "stream",
       "stream": "stdout",
       "text": [
        ".."
       ]
      },
      {
       "output_type": "stream",
       "stream": "stdout",
       "text": [
        ".."
       ]
      },
      {
       "output_type": "stream",
       "stream": "stdout",
       "text": [
        ".."
       ]
      },
      {
       "output_type": "stream",
       "stream": "stdout",
       "text": [
        ".."
       ]
      },
      {
       "output_type": "stream",
       "stream": "stdout",
       "text": [
        ".."
       ]
      },
      {
       "output_type": "stream",
       "stream": "stdout",
       "text": [
        ".."
       ]
      },
      {
       "output_type": "stream",
       "stream": "stdout",
       "text": [
        ".."
       ]
      },
      {
       "output_type": "stream",
       "stream": "stdout",
       "text": [
        "cov matrices not found []\n"
       ]
      }
     ],
     "prompt_number": 41
    },
    {
     "cell_type": "heading",
     "level": 3,
     "metadata": {},
     "source": [
      "Inline PCA"
     ]
    },
    {
     "cell_type": "code",
     "collapsed": false,
     "input": [
      "failed = []\n",
      "import sys\n",
      "for (i,cov) in covs:\n",
      "    try:\n",
      "        U,D,V=np.linalg.svd(cov)\n",
      "        sys.stdout.write('.')\n",
      "        plot(cumsum(D[:])/sum(D))\n",
      "        # plot(cumsum(D[:]))\n",
      "    \n",
      "    except Exception as e:\n",
      "        failed.append(i)\n",
      "    \n",
      "xlim([0,350])\n",
      "grid()"
     ],
     "language": "python",
     "metadata": {},
     "outputs": [
      {
       "output_type": "stream",
       "stream": "stdout",
       "text": [
        ".."
       ]
      },
      {
       "output_type": "stream",
       "stream": "stdout",
       "text": [
        ".."
       ]
      },
      {
       "output_type": "stream",
       "stream": "stdout",
       "text": [
        ".."
       ]
      },
      {
       "output_type": "stream",
       "stream": "stdout",
       "text": [
        ".."
       ]
      },
      {
       "output_type": "stream",
       "stream": "stdout",
       "text": [
        ".."
       ]
      },
      {
       "output_type": "stream",
       "stream": "stdout",
       "text": [
        ".."
       ]
      },
      {
       "output_type": "stream",
       "stream": "stdout",
       "text": [
        ".."
       ]
      },
      {
       "output_type": "stream",
       "stream": "stdout",
       "text": [
        ".."
       ]
      },
      {
       "output_type": "stream",
       "stream": "stdout",
       "text": [
        ".."
       ]
      },
      {
       "output_type": "stream",
       "stream": "stdout",
       "text": [
        ".."
       ]
      },
      {
       "output_type": "stream",
       "stream": "stdout",
       "text": [
        ".."
       ]
      },
      {
       "output_type": "stream",
       "stream": "stdout",
       "text": [
        "."
       ]
      },
      {
       "metadata": {},
       "output_type": "display_data",
       "png": "[encoded data removed]",
       "text": [
        "<matplotlib.figure.Figure at 0x3b1a950>"
       ]
      }
     ],
     "prompt_number": 42
    },
    {
     "cell_type": "heading",
     "level": 1,
     "metadata": {},
     "source": [
      "Merging"
     ]
    },
    {
     "cell_type": "code",
     "collapsed": false,
     "input": [
      "#hi.get_neighbors_of_group(100)"
     ],
     "language": "python",
     "metadata": {},
     "outputs": [],
     "prompt_number": 486
    }
   ],
   "metadata": {}
  }
 ]
}