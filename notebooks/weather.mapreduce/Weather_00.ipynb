{
 "metadata": {
  "name": "",
  "signature": "sha256:af39f7c05621c4233dc34d06ff4165275c1f46ba30f7570d2cb7b4ef73f7a34d"
 },
 "nbformat": 3,
 "nbformat_minor": 0,
 "worksheets": [
  {
   "cells": [
    {
     "cell_type": "markdown",
     "metadata": {},
     "source": [
      "#Questions to get started"
     ]
    },
    {
     "cell_type": "code",
     "collapsed": false,
     "input": [
      "import pandas as pd\n",
      "import numpy as np\n",
      "import sklearn as sk\n",
      "print 'pandas version: ',pd.__version__\n",
      "print 'numpy version:',np.__version__\n",
      "print 'sklearn version:',sk.__version__"
     ],
     "language": "python",
     "metadata": {},
     "outputs": [
      {
       "output_type": "stream",
       "stream": "stdout",
       "text": [
        "pandas version:  0.13.1\n",
        "numpy version: 1.8.1\n",
        "sklearn version: 0.14.1\n"
       ]
      }
     ],
     "prompt_number": 2
    },
    {
     "cell_type": "code",
     "collapsed": false,
     "input": [
      "import sys\n",
      "home_dir='/home/ubuntu/panagosg7'\n",
      "sys.path.append(home_dir+'/utils')\n",
      "from find_waiting_flow import *\n",
      "from AWS_keypair_management import *"
     ],
     "language": "python",
     "metadata": {},
     "outputs": [],
     "prompt_number": 4
    },
    {
     "cell_type": "code",
     "collapsed": false,
     "input": [
      "%%writefile weather_00.py\n",
      "#!/usr/bin/python\n",
      "\"\"\"\n",
      "count the number of measurements of each type\n",
      "\"\"\"\n",
      "import sys\n",
      "sys.path.append('/usr/lib/python2.6/dist-packages')\n",
      "from mrjob.job import MRJob\n",
      "import re\n",
      "from sys import stderr\n",
      "\n",
      "class MRWeather(MRJob):\n",
      "\n",
      "    def mapper(self, _, line):\n",
      "        try:\n",
      "            self.increment_counter('MrJob Counters','mapper-all',1)\n",
      "            elements=line.split(',')\n",
      "            if elements[0]=='station':\n",
      "                out=('header',1)\n",
      "            else:\n",
      "                out=(elements[1],1)\n",
      "        except Exception, e:\n",
      "            stderr.write('Error in line:\\n'+line)\n",
      "            stderr.write(e)\n",
      "            self.increment_counter('MrJob Counters','mapper-error',1)\n",
      "            out=('error',1)\n",
      "\n",
      "        finally:\n",
      "            yield out\n",
      "            \n",
      "    def combiner(self, word, counts):\n",
      "        self.increment_counter('MrJob Counters','combiner',1)\n",
      "        yield (word, sum(counts))\n",
      "        #l_counts=[c for c in counts]  # extract list from iterator\n",
      "        #S=sum(l_counts)\n",
      "        #logfile.write('combiner '+word+' ['+','.join([str(c) for c in l_counts])+']='+str(S)+'\\n')\n",
      "        #yield (word, S)\n",
      "\n",
      "    def reducer(self, word, counts):\n",
      "        self.increment_counter('MrJob Counters','reducer',1)\n",
      "        yield (word, sum(counts))\n",
      "        #l_counts=[c for c in counts]  # extract list from iterator\n",
      "        #S=sum(l_counts)\n",
      "        #logfile.write('reducer '+word+' ['+','.join([str(c) for c in l_counts])+']='+str(S)+'\\n')\n",
      "        #yield (word, S)\n",
      "\n",
      "if __name__ == '__main__':\n",
      "    MRWeather.run()"
     ],
     "language": "python",
     "metadata": {},
     "outputs": [
      {
       "output_type": "stream",
       "stream": "stdout",
       "text": [
        "Writing weather_00.py\n"
       ]
      }
     ],
     "prompt_number": 6
    },
    {
     "cell_type": "markdown",
     "metadata": {},
     "source": [
      "##Running job inline"
     ]
    },
    {
     "cell_type": "code",
     "collapsed": false,
     "input": [
      "#local_data='/home/ubuntu/panagosg7/data/weather/ALL.head.csv'\n",
      "local_data='/home/ubuntu/panagosg7/data/weather/ALL.head-100.csv'\n",
      "!ls -l $local_data"
     ],
     "language": "python",
     "metadata": {},
     "outputs": [
      {
       "output_type": "stream",
       "stream": "stdout",
       "text": [
        "-rw-rw-r-- 1 ubuntu ubuntu 68837 May 19 19:14 /home/ubuntu/panagosg7/data/weather/ALL.head-100.csv\r\n"
       ]
      }
     ],
     "prompt_number": 11
    },
    {
     "cell_type": "code",
     "collapsed": false,
     "input": [
      "!python mr_weather.py $local_data > counts"
     ],
     "language": "python",
     "metadata": {},
     "outputs": [
      {
       "output_type": "stream",
       "stream": "stdout",
       "text": [
        "using configs in /home/ubuntu/.mrjob.conf\r\n",
        "creating tmp directory /tmp/mr_weather.ubuntu.20140519.201059.223856\r\n",
        "writing to /tmp/mr_weather.ubuntu.20140519.201059.223856/step-0-mapper_part-00000\r\n",
        "Counters from step 1:\r\n",
        "  MrJob Counters:\r\n",
        "    combiner: 4\r\n",
        "    mapper-all: 100\r\n",
        "writing to /tmp/mr_weather.ubuntu.20140519.201059.223856/step-0-mapper-sorted\r\n",
        "> sort /tmp/mr_weather.ubuntu.20140519.201059.223856/step-0-mapper_part-00000\r\n",
        "writing to /tmp/mr_weather.ubuntu.20140519.201059.223856/step-0-reducer_part-00000\r\n",
        "Counters from step 1:\r\n",
        "  MrJob Counters:\r\n",
        "    combiner: 4\r\n",
        "    mapper-all: 100\r\n",
        "    reducer: 4\r\n",
        "Moving /tmp/mr_weather.ubuntu.20140519.201059.223856/step-0-reducer_part-00000 -> /tmp/mr_weather.ubuntu.20140519.201059.223856/output/part-00000\r\n",
        "Streaming final output from /tmp/mr_weather.ubuntu.20140519.201059.223856/output\r\n",
        "removing tmp directory /tmp/mr_weather.ubuntu.20140519.201059.223856\r\n"
       ]
      }
     ],
     "prompt_number": 23
    },
    {
     "cell_type": "markdown",
     "metadata": {},
     "source": [
      "##Some questions to get you started"
     ]
    },
    {
     "cell_type": "markdown",
     "metadata": {},
     "source": [
      "1. What is the **spatial distribution** of the records around the world? The number of records can be measured as the number of years for which we have measurements or by the number of actually defined measurements (rather than empty fields).\n",
      "2. The analysis you did in 1. will allow you to define a hierarchical partition of the world's surface. Ideally your partition would have a similar number of measurements in each part and the parts would correspond to natural geographical boundaries such as: the boundary between sea and land. Mountain ranges etc.\n",
      "3. Explore the rich possibilities of drawing maps using mathplotlib.basemap A good collection of example for how to present data using maps can be found here: http://matplotlib.org/basemap/users/examples.html"
     ]
    },
    {
     "cell_type": "markdown",
     "metadata": {},
     "source": [
      "# 1. Spacial distribution"
     ]
    },
    {
     "cell_type": "code",
     "collapsed": false,
     "input": [
      "%%writefile weather_01.py\n",
      "#!/usr/bin/python\n",
      "\"\"\"\n",
      "count the number of measurement for each year\n",
      "\"\"\"\n",
      "import sys\n",
      "sys.path.append('/usr/lib/python2.6/dist-packages')\n",
      "from mrjob.job import MRJob\n",
      "import re\n",
      "from sys import stderr\n",
      "\n",
      "class MRWeather(MRJob):\n",
      "\n",
      "    def mapper(self, _, line):\n",
      "        try:\n",
      "            self.increment_counter('MrJob Counters','mapper-all',1)\n",
      "            elements=line.split(',')\n",
      "            if elements[0]=='station':\n",
      "                out=('0000',1)\n",
      "            else:\n",
      "                out=(str(elements[2]),1)  # third element is year\n",
      "        except Exception, e:\n",
      "            stderr.write('Error in line:\\n'+line)\n",
      "            stderr.write(e)\n",
      "            self.increment_counter('MrJob Counters','mapper-error',1)\n",
      "            out=('error',1)\n",
      "\n",
      "        finally:\n",
      "            yield out\n",
      "            \n",
      "    def combiner(self, word, counts):\n",
      "        self.increment_counter('MrJob Counters','combiner',1)\n",
      "        yield (word, sum(counts))\n",
      "        #l_counts=[c for c in counts]  # extract list from iterator\n",
      "        #S=sum(l_counts)\n",
      "        #logfile.write('combiner '+word+' ['+','.join([str(c) for c in l_counts])+']='+str(S)+'\\n')\n",
      "        #yield (word, S)\n",
      "\n",
      "    def reducer(self, word, counts):\n",
      "        self.increment_counter('MrJob Counters','reducer',1)\n",
      "        yield (word, sum(counts))\n",
      "        #l_counts=[c for c in counts]  # extract list from iterator\n",
      "        #S=sum(l_counts)\n",
      "        #logfile.write('reducer '+word+' ['+','.join([str(c) for c in l_counts])+']='+str(S)+'\\n')\n",
      "        #yield (word, S)\n",
      "\n",
      "if __name__ == '__main__':\n",
      "    MRWeather.run()"
     ],
     "language": "python",
     "metadata": {},
     "outputs": [
      {
       "output_type": "stream",
       "stream": "stdout",
       "text": [
        "Overwriting weather_01.py\n"
       ]
      }
     ],
     "prompt_number": 57
    },
    {
     "cell_type": "markdown",
     "metadata": {},
     "source": [
      "###Running locally"
     ]
    },
    {
     "cell_type": "code",
     "collapsed": false,
     "input": [
      "import os.path\n",
      "#local_data='/home/ubuntu/panagosg7/data/weather/ALL.head.csv'\n",
      "local_data='/home/ubuntu/panagosg7/data/weather/ALL.head-1000.csv'\n",
      "\n",
      "output_dir = '/home/ubuntu/panagosg7/notebooks/weather.mapreduce/output/'\n",
      "!mkdir -p $output_dir\n",
      "\n",
      "local_output_file = os.path.join(output_dir,'sp_dist_loc.txt')\n",
      "!ls -l $local_data"
     ],
     "language": "python",
     "metadata": {},
     "outputs": [
      {
       "output_type": "stream",
       "stream": "stdout",
       "text": [
        "-rw-rw-r-- 1 ubuntu ubuntu 858960 May 19 12:14 /home/ubuntu/panagosg7/data/weather/ALL.head-1000.csv\r\n"
       ]
      }
     ],
     "prompt_number": 142
    },
    {
     "cell_type": "code",
     "collapsed": false,
     "input": [
      "!python weather_01.py $local_data > $local_output_file"
     ],
     "language": "python",
     "metadata": {},
     "outputs": [
      {
       "output_type": "stream",
       "stream": "stdout",
       "text": [
        "using configs in /home/ubuntu/.mrjob.conf\r\n",
        "creating tmp directory /tmp/weather_01.ubuntu.20140519.225916.662973\r\n",
        "writing to /tmp/weather_01.ubuntu.20140519.225916.662973/step-0-mapper_part-00000\r\n"
       ]
      },
      {
       "output_type": "stream",
       "stream": "stdout",
       "text": [
        "Counters from step 1:\r\n",
        "  MrJob Counters:\r\n",
        "    combiner: 110\r\n",
        "    mapper-all: 999\r\n",
        "writing to /tmp/weather_01.ubuntu.20140519.225916.662973/step-0-mapper-sorted\r\n",
        "> sort /tmp/weather_01.ubuntu.20140519.225916.662973/step-0-mapper_part-00000\r\n",
        "writing to /tmp/weather_01.ubuntu.20140519.225916.662973/step-0-reducer_part-00000\r\n",
        "Counters from step 1:\r\n",
        "  MrJob Counters:\r\n",
        "    combiner: 110\r\n",
        "    mapper-all: 999\r\n",
        "    reducer: 110\r\n",
        "Moving /tmp/weather_01.ubuntu.20140519.225916.662973/step-0-reducer_part-00000 -> /tmp/weather_01.ubuntu.20140519.225916.662973/output/part-00000\r\n",
        "Streaming final output from /tmp/weather_01.ubuntu.20140519.225916.662973/output\r\n",
        "removing tmp directory /tmp/weather_01.ubuntu.20140519.225916.662973\r\n"
       ]
      }
     ],
     "prompt_number": 143
    },
    {
     "cell_type": "code",
     "collapsed": false,
     "input": [
      "def plot_sp_dist_loc(name):\n",
      "    from matplotlib import pyplot as plt\n",
      "    import numpy as np\n",
      "\n",
      "    with open(name) as f:\n",
      "        lyrs = np.loadtxt(f, dtype = int, delimiter=\"\\t\", converters = {0: lambda s: int(s.replace('\"','')) })\n",
      "\n",
      "    xlabel('year')\n",
      "    ylabel('number of entries')\n",
      "    plot(lyrs[:,0], lyrs[:,1])\n",
      "    grid()\n",
      "\n",
      "plot_sp_dist_loc(local_output_file)"
     ],
     "language": "python",
     "metadata": {},
     "outputs": [
      {
       "metadata": {},
       "output_type": "display_data",
       "png": "[encoded data removed]",
       "text": [
        "<matplotlib.figure.Figure at 0x4f62190>"
       ]
      }
     ],
     "prompt_number": 145
    },
    {
     "cell_type": "markdown",
     "metadata": {},
     "source": [
      "###Running on EMR"
     ]
    },
    {
     "cell_type": "code",
     "collapsed": false,
     "input": [
      "import pickle\n",
      "Creds= pickle.load(open('/home/ubuntu/Vault/Creds.pkl','rb'))\n",
      "print Creds.keys()\n",
      "print Creds['mrjob'].keys()\n",
      "pair=Creds['mrjob']\n",
      "key_id=pair['key_id']\n",
      "secret_key=pair['secret_key']\n",
      "ID=pair['ID']\n",
      "print ID,key_id"
     ],
     "language": "python",
     "metadata": {},
     "outputs": []
    },
    {
     "cell_type": "code",
     "collapsed": false,
     "input": [
      "job_flow_id=find_waiting_flow(key_id,secret_key)\n",
      "job_flow_id"
     ],
     "language": "python",
     "metadata": {},
     "outputs": [
      {
       "output_type": "stream",
       "stream": "stdout",
       "text": [
        "<boto.emr.emrobject.JobFlow object at 0x4f6f050> no_script.yoavfreund.20140517.080731.371759 j-1RE8D7HBISOI0 WAITING\n",
        "<boto.emr.emrobject.JobFlow object at 0x56d6a10> no_script.yoavfreund.20140516.040032.370095 j-262J0JTFJIRLO WAITING\n"
       ]
      },
      {
       "metadata": {},
       "output_type": "pyout",
       "prompt_number": 128,
       "text": [
        "u'j-262J0JTFJIRLO'"
       ]
      }
     ],
     "prompt_number": 128
    },
    {
     "cell_type": "code",
     "collapsed": false,
     "input": [
      "emr_output_file = output_dir + 'sp_dist_emr.txt'"
     ],
     "language": "python",
     "metadata": {},
     "outputs": [],
     "prompt_number": 146
    },
    {
     "cell_type": "code",
     "collapsed": false,
     "input": [
      "!python weather_01.py -r emr --emr-job-flow-id  $job_flow_id hdfs:/weather/weather.csv > $emr_output_file\n",
      "#!python weather_01.py -r emr --emr-job-flow-id  $job_flow_id < $local_data > $emr_output_file"
     ],
     "language": "python",
     "metadata": {},
     "outputs": [
      {
       "output_type": "stream",
       "stream": "stdout",
       "text": [
        "using configs in /home/ubuntu/.mrjob.conf\r\n"
       ]
      },
      {
       "output_type": "stream",
       "stream": "stdout",
       "text": [
        "creating tmp directory /tmp/weather_01.ubuntu.20140519.230222.006707\r\n"
       ]
      },
      {
       "output_type": "stream",
       "stream": "stdout",
       "text": [
        "Copying non-input files into s3://pvekris.bucket/scratch/weather_01.ubuntu.20140519.230222.006707/files/\r\n"
       ]
      },
      {
       "output_type": "stream",
       "stream": "stdout",
       "text": [
        "Adding our job to existing job flow j-262J0JTFJIRLO\r\n"
       ]
      },
      {
       "output_type": "stream",
       "stream": "stdout",
       "text": [
        "Job launched 30.2s ago, status RUNNING: Running step\r\n"
       ]
      },
      {
       "output_type": "stream",
       "stream": "stdout",
       "text": [
        "Job launched 60.4s ago, status RUNNING: Running step\r\n"
       ]
      },
      {
       "output_type": "stream",
       "stream": "stdout",
       "text": [
        "Job launched 90.6s ago, status RUNNING: Running step\r\n"
       ]
      },
      {
       "output_type": "stream",
       "stream": "stdout",
       "text": [
        "Job launched 120.8s ago, status RUNNING: Running step\r\n"
       ]
      },
      {
       "output_type": "stream",
       "stream": "stdout",
       "text": [
        "Job launched 151.0s ago, status RUNNING: Running step\r\n"
       ]
      },
      {
       "output_type": "stream",
       "stream": "stdout",
       "text": [
        "Job launched 181.3s ago, status RUNNING: Running step\r\n"
       ]
      },
      {
       "output_type": "stream",
       "stream": "stdout",
       "text": [
        "Job launched 211.5s ago, status RUNNING: Running step\r\n"
       ]
      },
      {
       "output_type": "stream",
       "stream": "stdout",
       "text": [
        "Job launched 241.8s ago, status RUNNING: Running step\r\n"
       ]
      },
      {
       "output_type": "stream",
       "stream": "stdout",
       "text": [
        "Job launched 272.0s ago, status RUNNING: Running step (weather_01.ubuntu.20140519.230222.006707: Step 1 of 1)\r\n"
       ]
      },
      {
       "output_type": "stream",
       "stream": "stdout",
       "text": [
        "Job launched 302.2s ago, status RUNNING: Running step (weather_01.ubuntu.20140519.230222.006707: Step 1 of 1)\r\n"
       ]
      },
      {
       "output_type": "stream",
       "stream": "stdout",
       "text": [
        "Job launched 332.4s ago, status RUNNING: Running step (weather_01.ubuntu.20140519.230222.006707: Step 1 of 1)\r\n"
       ]
      },
      {
       "output_type": "stream",
       "stream": "stdout",
       "text": [
        "Job launched 362.6s ago, status RUNNING: Running step (weather_01.ubuntu.20140519.230222.006707: Step 1 of 1)\r\n"
       ]
      },
      {
       "output_type": "stream",
       "stream": "stdout",
       "text": [
        "Job launched 392.8s ago, status RUNNING: Running step (weather_01.ubuntu.20140519.230222.006707: Step 1 of 1)\r\n"
       ]
      },
      {
       "output_type": "stream",
       "stream": "stdout",
       "text": [
        "Job completed.\r\n",
        "Running time was 141.0s (not counting time spent waiting for the EC2 instances)\r\n",
        "ec2_key_pair_file not specified, going to S3\r\n",
        "Fetching counters from S3...\r\n",
        "Waiting 5.0s for S3 eventual consistency\r\n"
       ]
      },
      {
       "output_type": "stream",
       "stream": "stdout",
       "text": [
        "Counters may not have been uploaded to S3 yet. Try again in 5 minutes with: mrjob fetch-logs --counters j-262J0JTFJIRLO\r\n",
        "Counters from step 1:\r\n",
        "  (no counters found)\r\n"
       ]
      },
      {
       "output_type": "stream",
       "stream": "stdout",
       "text": [
        "Streaming final output from s3://pvekris.bucket/scratch/weather_01.ubuntu.20140519.230222.006707/output/\r\n"
       ]
      },
      {
       "output_type": "stream",
       "stream": "stdout",
       "text": [
        "removing tmp directory /tmp/weather_01.ubuntu.20140519.230222.006707\r\n",
        "Removing all files in s3://pvekris.bucket/scratch/weather_01.ubuntu.20140519.230222.006707/\r\n"
       ]
      }
     ],
     "prompt_number": 150
    },
    {
     "cell_type": "code",
     "collapsed": false,
     "input": [
      "def plot_sp_dist(name):\n",
      "    from matplotlib import pyplot as plt\n",
      "    import numpy as np\n",
      "    with open(name) as f:\n",
      "        yrs = np.loadtxt(f, dtype = int, delimiter=\"\\t\", converters = {0: lambda s: int(s.replace('\"','')) })\n",
      "\n",
      "    # Need to sort by year !\n",
      "    arr = np.array(yrs)\n",
      "    arr = arr[arr[:,0].argsort()]\n",
      "\n",
      "    print 'Total number of measurements:', sum(arr[:,1])\n",
      "\n",
      "    \n",
      "    # Filter years later than 1700\n",
      "    arr1700 = arr[(1700 < arr[:,0]) & (arr[:,0] < 1860)]\n",
      "    \n",
      "    # Filter years later than 1900\n",
      "    arr1900 = arr[1860 < arr[:,0]]\n",
      "\n",
      "    plt.close('all')\n",
      "    fig = plt.figure(figsize=[12,5])\n",
      "    \n",
      "    ax1 = plt.subplot(121)\n",
      "    ax1.plot(arr1700[:,0], arr1700[:,1])\n",
      "    ax1.set_xlabel(\"Year\", fontsize=13)\n",
      "    ax1.set_ylabel(\"#measurements\", fontsize=13)\n",
      "    ax1.set_title(\"Years: 1750-1860\", fontsize=13)\n",
      "    ax1.grid()\n",
      "    \n",
      "    ax2 = plt.subplot(122)\n",
      "    ax2.plot(arr1900[:,0], arr1900[:,1])\n",
      "    ax2.set_xlabel(\"Year\", fontsize=13)\n",
      "    ax2.set_ylabel(\"#measurements\", fontsize=13)\n",
      "    ax2.set_title(\"Years: 1860-2014\", fontsize=13)\n",
      "    \n",
      "    ax2.grid()\n",
      "\n",
      "    plt.tight_layout()"
     ],
     "language": "python",
     "metadata": {},
     "outputs": []
    },
    {
     "cell_type": "code",
     "collapsed": false,
     "input": [
      "plot_sp_dist(emr_output_file)"
     ],
     "language": "python",
     "metadata": {},
     "outputs": [
      {
       "output_type": "stream",
       "stream": "stdout",
       "text": [
        "Total number of measurements: 9358395\n"
       ]
      },
      {
       "metadata": {},
       "output_type": "display_data",
       "png": "[encoded data removed]",
       "text": [
        "<matplotlib.figure.Figure at 0x4f6c2d0>"
       ]
      }
     ],
     "prompt_number": 249
    }
   ],
   "metadata": {}
  }
 ]
}